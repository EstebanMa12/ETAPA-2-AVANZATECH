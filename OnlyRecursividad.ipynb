{
 "cells": [
  {
   "cell_type": "markdown",
   "metadata": {},
   "source": [
    "Coffee Vending Machine Problems [Part 1]\n",
    "You have a vending machine, but it can not give the change back. You decide to implement this functionality. First of all, you need to know the minimum number of coins for this operation (i'm sure you don't want to return 100 pennys instead of 1$ coin). So, find an optimal number of coins required, if you have unlimited set of coins with given denominations.\n",
    "\n",
    "Assume all inputs are valid positive integers, and every set of coin denominations has len 4 for simplicity;\n",
    "\n",
    "Examples:\n",
    "\n",
    "` - optimal_number_of_coins(1, [1, 2, 5, 10]) \n",
    "(1 penny) so returns 1  \n",
    "- optimal_number_of_coins(5, [1, 2, 5, 10])\n",
    "(5) so returns 1\n",
    "- optimal_number_of_coins(6, [1, 3, 5, 10])\n",
    "(3+3 or 5+1) = 6 so returns 2\n",
    "- optimal_number_of_coins(10, [1, 2, 5, 10]) \n",
    "(10) so returns 1\n",
    "- optimal_number_of_coins(12, [1, 3, 5, 10])\n",
    "(10+1+1) = 12 so returns 3\n",
    "- optimal_number_of_coins(53, [1, 2, 5, 25])\n",
    "(25+25+2+1) = 53 so returns 4\n",
    "- optimal_number_of_coins(7, [1, 1, 1, 25])\n",
    "(1+1+1+1+1+1+1) = 7 so returns 7`"
   ]
  },
  {
   "cell_type": "code",
   "execution_count": 1,
   "metadata": {},
   "outputs": [],
   "source": [
    "import math\n",
    "def optimal_number_of_coins(n, coins, minimo=0):\n",
    "    print(f'Este es el numero inicial {n}')\n",
    "    a = [math.floor(n/penny) for penny in coins if math.floor(n/penny)!=0]\n",
    "    minimo += min(a)\n",
    "    \"\"\" print(f'Este es el numero minimo {minimo}') \"\"\"\n",
    "    minIndex= a.index(min(a))\n",
    "    n-= a[minIndex]*coins[minIndex]\n",
    "    print(f'esto es lo que queda {n}')\n",
    "    if n==0:\n",
    "        print(f'Ya cumplio con la condición con {minimo} monedas')\n",
    "        return minimo\n",
    "    else:\n",
    "        print(f'Este es el minimo antes de ingresar a la recursividad {minimo} y esto {n}')\n",
    "        return optimal_number_of_coins(n,coins, minimo)"
   ]
  },
  {
   "cell_type": "markdown",
   "metadata": {},
   "source": [
    "Task Overview\n",
    "Given a non-negative integer n, write a function to_binary/ToBinary which returns that number in a binary format.\n",
    "\n",
    "- to_binary(1)  # should return 1 \n",
    "- to_binary(5)  # should return 101\n",
    "- to_binary(11) # should return 1011"
   ]
  },
  {
   "cell_type": "code",
   "execution_count": 29,
   "metadata": {},
   "outputs": [],
   "source": [
    "def to_binary(num):\n",
    "    binary = ''\n",
    "    if num > 1:\n",
    "        to_binary(num//2)\n",
    "    binary += str(num%2)\n",
    "    return int(binary)"
   ]
  },
  {
   "cell_type": "code",
   "execution_count": 33,
   "metadata": {},
   "outputs": [],
   "source": [
    "def to_binary(num):\n",
    "    binary = ''\n",
    "    if num > 1:\n",
    "        binary = str(to_binary(num // 2))\n",
    "    binary += str(num % 2)\n",
    "    return int(binary)"
   ]
  },
  {
   "cell_type": "code",
   "execution_count": 34,
   "metadata": {},
   "outputs": [
    {
     "data": {
      "text/plain": [
       "111"
      ]
     },
     "execution_count": 34,
     "metadata": {},
     "output_type": "execute_result"
    }
   ],
   "source": [
    "to_binary(7)"
   ]
  },
  {
   "cell_type": "markdown",
   "metadata": {},
   "source": [
    "La forma más fácil era "
   ]
  },
  {
   "cell_type": "code",
   "execution_count": null,
   "metadata": {},
   "outputs": [],
   "source": [
    "def to_binary(n):\n",
    "    return int(bin(n)[2:])"
   ]
  }
 ],
 "metadata": {
  "kernelspec": {
   "display_name": "Python 3",
   "language": "python",
   "name": "python3"
  },
  "language_info": {
   "codemirror_mode": {
    "name": "ipython",
    "version": 3
   },
   "file_extension": ".py",
   "mimetype": "text/x-python",
   "name": "python",
   "nbconvert_exporter": "python",
   "pygments_lexer": "ipython3",
   "version": "3.10.6"
  },
  "orig_nbformat": 4
 },
 "nbformat": 4,
 "nbformat_minor": 2
}
