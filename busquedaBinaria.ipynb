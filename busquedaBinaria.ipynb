{
 "cells": [
  {
   "cell_type": "code",
   "execution_count": 14,
   "metadata": {},
   "outputs": [
    {
     "name": "stdout",
     "output_type": "stream",
     "text": [
      "bajo=0.0, alto=90, respuesta=45.0\n",
      "bajo=0.0, alto=45.0, respuesta=22.5\n",
      "bajo=0.0, alto=22.5, respuesta=11.25\n",
      "bajo=0.0, alto=11.25, respuesta=5.625\n",
      "bajo=5.625, alto=11.25, respuesta=8.4375\n",
      "bajo=8.4375, alto=11.25, respuesta=9.84375\n",
      "bajo=8.4375, alto=9.84375, respuesta=9.140625\n",
      "bajo=9.140625, alto=9.84375, respuesta=9.4921875\n",
      "bajo=9.140625, alto=9.4921875, respuesta=9.31640625\n",
      "bajo=9.31640625, alto=9.4921875, respuesta=9.404296875\n",
      "bajo=9.404296875, alto=9.4921875, respuesta=9.4482421875\n",
      "bajo=9.4482421875, alto=9.4921875, respuesta=9.47021484375\n",
      "bajo=9.47021484375, alto=9.4921875, respuesta=9.481201171875\n",
      "La raiz cuadrada de 90 es 9.4866943359375\n"
     ]
    }
   ],
   "source": [
    "objetivo = int(input('Elige el número: '))\n",
    "epsilon = 0.01\n",
    "bajo =0.0\n",
    "high= max(1.0,objetivo)\n",
    "respuesta = (high+bajo)/2\n",
    "\n",
    "while abs(respuesta**2 - objetivo)>=epsilon:\n",
    "    print(f'bajo={bajo}, alto={high}, respuesta={respuesta}')\n",
    "    if respuesta**2 <objetivo:\n",
    "        bajo =respuesta\n",
    "    else:\n",
    "        high = respuesta\n",
    "    respuesta=(high+bajo)/2\n",
    "\n",
    "print(f'La raiz cuadrada de {objetivo} es {respuesta}')"
   ]
  },
  {
   "cell_type": "code",
   "execution_count": 12,
   "metadata": {},
   "outputs": [
    {
     "data": {
      "text/plain": [
       "5.0625"
      ]
     },
     "execution_count": 12,
     "metadata": {},
     "output_type": "execute_result"
    }
   ],
   "source": [
    "2.25**2"
   ]
  },
  {
   "cell_type": "markdown",
   "metadata": {},
   "source": [
    "# RECURSIVIDAD"
   ]
  },
  {
   "cell_type": "markdown",
   "metadata": {},
   "source": [
    "### FACTORIALES\n"
   ]
  },
  {
   "cell_type": "code",
   "execution_count": 2,
   "metadata": {},
   "outputs": [],
   "source": [
    "def factorial(n):\n",
    "    \"\"\" Calcula el factorial de n\n",
    "    n int>0 \"\"\"\n",
    "\n",
    "    if n==1:\n",
    "        return 1\n",
    "    return n*factorial(n-1)"
   ]
  },
  {
   "cell_type": "code",
   "execution_count": 4,
   "metadata": {},
   "outputs": [
    {
     "data": {
      "text/plain": [
       "40320"
      ]
     },
     "execution_count": 4,
     "metadata": {},
     "output_type": "execute_result"
    }
   ],
   "source": [
    "n= int(input('Escribe un entero: '))\n",
    "factorial(n)"
   ]
  },
  {
   "cell_type": "markdown",
   "metadata": {},
   "source": [
    "Limite de recursividad \n",
    "\n",
    "- import sys\n",
    "- print(sys.getrecursionlimit())"
   ]
  },
  {
   "cell_type": "code",
   "execution_count": 5,
   "metadata": {},
   "outputs": [
    {
     "data": {
      "text/plain": [
       "3000"
      ]
     },
     "execution_count": 5,
     "metadata": {},
     "output_type": "execute_result"
    }
   ],
   "source": [
    "import sys\n",
    "sys.getrecursionlimit()"
   ]
  },
  {
   "cell_type": "markdown",
   "metadata": {},
   "source": [
    "Modificar limite de recursividad \n",
    "`sys.setrecursionlimit(n)`\n",
    "n es el nuevo límite a establecer"
   ]
  },
  {
   "cell_type": "code",
   "execution_count": 6,
   "metadata": {},
   "outputs": [],
   "source": [
    "def fibonacci(n):\n",
    "    if n == 0 or n == 1:\n",
    "        return 1\n",
    "\n",
    "    return fibonacci(n - 1) + fibonacci(n - 2)"
   ]
  },
  {
   "cell_type": "code",
   "execution_count": 7,
   "metadata": {},
   "outputs": [
    {
     "data": {
      "text/plain": [
       "8"
      ]
     },
     "execution_count": 7,
     "metadata": {},
     "output_type": "execute_result"
    }
   ],
   "source": [
    "n = int(input('Ingrese un numero para hacer la sucesión de Fibonacci: '))\n",
    "fibonacci(n)"
   ]
  },
  {
   "cell_type": "code",
   "execution_count": 10,
   "metadata": {},
   "outputs": [
    {
     "data": {
      "text/plain": [
       "[2, -2.0]"
      ]
     },
     "execution_count": 10,
     "metadata": {},
     "output_type": "execute_result"
    }
   ],
   "source": [
    "def aplicar_operaciones(num):\n",
    "    operaciones = [abs, float]\n",
    "\n",
    "    resultado = []\n",
    "    for operacion in operaciones:\n",
    "        resultado.append(operacion(num))\n",
    "\n",
    "    return resultado\n",
    "\n",
    "aplicar_operaciones(-2)"
   ]
  },
  {
   "cell_type": "code",
   "execution_count": 11,
   "metadata": {},
   "outputs": [],
   "source": [
    "a= [1,2,3,4]\n",
    "b= a"
   ]
  },
  {
   "cell_type": "code",
   "execution_count": 12,
   "metadata": {},
   "outputs": [
    {
     "data": {
      "text/plain": [
       "True"
      ]
     },
     "execution_count": 12,
     "metadata": {},
     "output_type": "execute_result"
    }
   ],
   "source": [
    "b==a"
   ]
  },
  {
   "cell_type": "code",
   "execution_count": 13,
   "metadata": {},
   "outputs": [
    {
     "name": "stdout",
     "output_type": "stream",
     "text": [
      "139764010643008\n"
     ]
    },
    {
     "data": {
      "text/plain": [
       "139764010643008"
      ]
     },
     "execution_count": 13,
     "metadata": {},
     "output_type": "execute_result"
    }
   ],
   "source": [
    "print(id(b))\n",
    "id(a)"
   ]
  }
 ],
 "metadata": {
  "kernelspec": {
   "display_name": "Python 3",
   "language": "python",
   "name": "python3"
  },
  "language_info": {
   "codemirror_mode": {
    "name": "ipython",
    "version": 3
   },
   "file_extension": ".py",
   "mimetype": "text/x-python",
   "name": "python",
   "nbconvert_exporter": "python",
   "pygments_lexer": "ipython3",
   "version": "3.10.6"
  },
  "orig_nbformat": 4
 },
 "nbformat": 4,
 "nbformat_minor": 2
}
