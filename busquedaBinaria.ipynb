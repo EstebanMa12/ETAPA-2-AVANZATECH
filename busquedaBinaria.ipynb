{
 "cells": [
  {
   "cell_type": "code",
   "execution_count": 8,
   "metadata": {},
   "outputs": [
    {
     "name": "stdout",
     "output_type": "stream",
     "text": [
      "bajo=0.0, alto=72, respuesta=36.0\n",
      "bajo=0.0, alto=36.0, respuesta=18.0\n",
      "bajo=0.0, alto=18.0, respuesta=9.0\n",
      "bajo=0.0, alto=9.0, respuesta=4.5\n",
      "bajo=4.5, alto=9.0, respuesta=6.75\n",
      "bajo=6.75, alto=9.0, respuesta=7.875\n",
      "bajo=7.875, alto=9.0, respuesta=8.4375\n",
      "bajo=8.4375, alto=9.0, respuesta=8.71875\n",
      "bajo=8.4375, alto=8.71875, respuesta=8.578125\n",
      "bajo=8.4375, alto=8.578125, respuesta=8.5078125\n",
      "bajo=8.4375, alto=8.5078125, respuesta=8.47265625\n",
      "bajo=8.47265625, alto=8.5078125, respuesta=8.490234375\n",
      "bajo=8.47265625, alto=8.490234375, respuesta=8.4814453125\n",
      "La raiz cuadrada de 72 es 8.48583984375\n"
     ]
    }
   ],
   "source": [
    "objetivo = int(input('Elige el número: '))\n",
    "epsilon = 0.01\n",
    "bajo =0.0\n",
    "high= max(1.0,objetivo)\n",
    "respuesta = (high+bajo)/2\n",
    "\n",
    "while abs(respuesta**2 - objetivo)>=epsilon:\n",
    "    print(f'bajo={bajo}, alto={high}, respuesta={respuesta}')\n",
    "    if respuesta**2 <objetivo:\n",
    "        bajo =respuesta\n",
    "    else:\n",
    "        high = respuesta\n",
    "    respuesta=(high+bajo)/2\n",
    "\n",
    "print(f'La raiz cuadrada de {objetivo} es {respuesta}')"
   ]
  }
 ],
 "metadata": {
  "kernelspec": {
   "display_name": "Python 3",
   "language": "python",
   "name": "python3"
  },
  "language_info": {
   "codemirror_mode": {
    "name": "ipython",
    "version": 3
   },
   "file_extension": ".py",
   "mimetype": "text/x-python",
   "name": "python",
   "nbconvert_exporter": "python",
   "pygments_lexer": "ipython3",
   "version": "3.10.6"
  },
  "orig_nbformat": 4
 },
 "nbformat": 4,
 "nbformat_minor": 2
}
