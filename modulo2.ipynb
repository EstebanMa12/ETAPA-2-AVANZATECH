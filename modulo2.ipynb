{
 "cells": [
  {
   "cell_type": "code",
   "execution_count": 1,
   "metadata": {},
   "outputs": [
    {
     "name": "stdout",
     "output_type": "stream",
     "text": [
      "The Zen of Python, by Tim Peters\n",
      "\n",
      "Beautiful is better than ugly.\n",
      "Explicit is better than implicit.\n",
      "Simple is better than complex.\n",
      "Complex is better than complicated.\n",
      "Flat is better than nested.\n",
      "Sparse is better than dense.\n",
      "Readability counts.\n",
      "Special cases aren't special enough to break the rules.\n",
      "Although practicality beats purity.\n",
      "Errors should never pass silently.\n",
      "Unless explicitly silenced.\n",
      "In the face of ambiguity, refuse the temptation to guess.\n",
      "There should be one-- and preferably only one --obvious way to do it.\n",
      "Although that way may not be obvious at first unless you're Dutch.\n",
      "Now is better than never.\n",
      "Although never is often better than *right* now.\n",
      "If the implementation is hard to explain, it's a bad idea.\n",
      "If the implementation is easy to explain, it may be a good idea.\n",
      "Namespaces are one honking great idea -- let's do more of those!\n"
     ]
    }
   ],
   "source": [
    "import this"
   ]
  },
  {
   "cell_type": "markdown",
   "metadata": {},
   "source": [
    "# SET\n"
   ]
  },
  {
   "cell_type": "code",
   "execution_count": 2,
   "metadata": {},
   "outputs": [
    {
     "data": {
      "text/plain": [
       "{'bol', 'col', 'mex'}"
      ]
     },
     "execution_count": 2,
     "metadata": {},
     "output_type": "execute_result"
    }
   ],
   "source": [
    "set_countries={'col', 'mex', 'bol'}\n",
    "set_countries"
   ]
  },
  {
   "cell_type": "code",
   "execution_count": 3,
   "metadata": {},
   "outputs": [
    {
     "data": {
      "text/plain": [
       "{'bol', 'col', 'mex'}"
      ]
     },
     "execution_count": 3,
     "metadata": {},
     "output_type": "execute_result"
    }
   ],
   "source": [
    "# si yo pongo algo repetido, él me lo quita al imprimir\n",
    "set_countries2 = {'col', 'mex', 'bol', 'col'}\n",
    "set_countries2"
   ]
  },
  {
   "cell_type": "code",
   "execution_count": 4,
   "metadata": {},
   "outputs": [
    {
     "data": {
      "text/plain": [
       "{1, 12.12, False, 'hola'}"
      ]
     },
     "execution_count": 4,
     "metadata": {},
     "output_type": "execute_result"
    }
   ],
   "source": [
    "# puede ser mixto. El set se ordena solo, lo importante es lo que tengo dentro.\n",
    "set_types = {1, 'hola', False, 12.12}\n",
    "set_types"
   ]
  },
  {
   "cell_type": "code",
   "execution_count": 6,
   "metadata": {},
   "outputs": [
    {
     "data": {
      "text/plain": [
       "{'a', 'h', 'l', 'o'}"
      ]
     },
     "execution_count": 6,
     "metadata": {},
     "output_type": "execute_result"
    }
   ],
   "source": [
    "set_from_string = set('hoola')\n",
    "set_from_string"
   ]
  },
  {
   "cell_type": "code",
   "execution_count": 7,
   "metadata": {},
   "outputs": [
    {
     "data": {
      "text/plain": [
       "{'abc', 'as', 'cbv'}"
      ]
     },
     "execution_count": 7,
     "metadata": {},
     "output_type": "execute_result"
    }
   ],
   "source": [
    "set_from_tuples = set (('abc','cbv','as','abc'))\n",
    "set_from_tuples"
   ]
  },
  {
   "cell_type": "code",
   "execution_count": 9,
   "metadata": {},
   "outputs": [
    {
     "data": {
      "text/plain": [
       "[1, 2, 3, 4]"
      ]
     },
     "execution_count": 9,
     "metadata": {},
     "output_type": "execute_result"
    }
   ],
   "source": [
    "numbers = [1,2,3,1,2,3,4]\n",
    "set_numbers= set(numbers)\n",
    "list(set_numbers)\n",
    "\n",
    "## Esta es una forma de obtener los números sin repetir"
   ]
  },
  {
   "cell_type": "markdown",
   "metadata": {},
   "source": [
    "## MODIFICACIÓN DE SETS"
   ]
  },
  {
   "cell_type": "code",
   "execution_count": 10,
   "metadata": {},
   "outputs": [
    {
     "data": {
      "text/plain": [
       "3"
      ]
     },
     "execution_count": 10,
     "metadata": {},
     "output_type": "execute_result"
    }
   ],
   "source": [
    "set_countries={'col', 'mex', 'bol'}\n",
    "\n",
    "size = len(set_countries)\n",
    "size"
   ]
  },
  {
   "cell_type": "code",
   "execution_count": 11,
   "metadata": {},
   "outputs": [
    {
     "data": {
      "text/plain": [
       "True"
      ]
     },
     "execution_count": 11,
     "metadata": {},
     "output_type": "execute_result"
    }
   ],
   "source": [
    "'col' in set_countries"
   ]
  },
  {
   "cell_type": "code",
   "execution_count": 13,
   "metadata": {},
   "outputs": [
    {
     "data": {
      "text/plain": [
       "{'bol', 'col', 'mex', 'pe'}"
      ]
     },
     "execution_count": 13,
     "metadata": {},
     "output_type": "execute_result"
    }
   ],
   "source": [
    "set_countries.add('pe')\n",
    "set_countries"
   ]
  },
  {
   "cell_type": "code",
   "execution_count": 15,
   "metadata": {},
   "outputs": [
    {
     "data": {
      "text/plain": [
       "{'ar', 'bol', 'col', 'ecua', 'mex', 'pe'}"
      ]
     },
     "execution_count": 15,
     "metadata": {},
     "output_type": "execute_result"
    }
   ],
   "source": [
    "set_countries.update({'ar','ecua'})\n",
    "set_countries"
   ]
  },
  {
   "cell_type": "code",
   "execution_count": 16,
   "metadata": {},
   "outputs": [
    {
     "data": {
      "text/plain": [
       "{'bol', 'col', 'ecua', 'mex', 'pe'}"
      ]
     },
     "execution_count": 16,
     "metadata": {},
     "output_type": "execute_result"
    }
   ],
   "source": [
    "set_countries.remove('ar')\n",
    "set_countries"
   ]
  },
  {
   "cell_type": "code",
   "execution_count": 18,
   "metadata": {},
   "outputs": [
    {
     "data": {
      "text/plain": [
       "{'bol', 'col', 'ecua', 'mex', 'pe'}"
      ]
     },
     "execution_count": 18,
     "metadata": {},
     "output_type": "execute_result"
    }
   ],
   "source": [
    "set_countries.discard('arg')\n",
    "set_countries"
   ]
  },
  {
   "cell_type": "code",
   "execution_count": 19,
   "metadata": {},
   "outputs": [
    {
     "data": {
      "text/plain": [
       "set()"
      ]
     },
     "execution_count": 19,
     "metadata": {},
     "output_type": "execute_result"
    }
   ],
   "source": [
    "set_countries.clear()\n",
    "set_countries"
   ]
  },
  {
   "cell_type": "markdown",
   "metadata": {},
   "source": [
    "## LIST COMPREHENSION "
   ]
  },
  {
   "cell_type": "code",
   "execution_count": 1,
   "metadata": {},
   "outputs": [
    {
     "data": {
      "text/plain": [
       "[4,\n",
       " 8,\n",
       " 12,\n",
       " 16,\n",
       " 20,\n",
       " 24,\n",
       " 28,\n",
       " 32,\n",
       " 36,\n",
       " 40,\n",
       " 44,\n",
       " 48,\n",
       " 52,\n",
       " 56,\n",
       " 60,\n",
       " 64,\n",
       " 68,\n",
       " 72,\n",
       " 76,\n",
       " 80,\n",
       " 84,\n",
       " 88,\n",
       " 92,\n",
       " 96,\n",
       " 100,\n",
       " 104,\n",
       " 108,\n",
       " 112,\n",
       " 116,\n",
       " 120,\n",
       " 124,\n",
       " 128,\n",
       " 132,\n",
       " 136,\n",
       " 140,\n",
       " 144,\n",
       " 148,\n",
       " 152,\n",
       " 156,\n",
       " 160,\n",
       " 164,\n",
       " 168,\n",
       " 172,\n",
       " 176,\n",
       " 180,\n",
       " 184,\n",
       " 188,\n",
       " 192,\n",
       " 196,\n",
       " 200]"
      ]
     },
     "execution_count": 1,
     "metadata": {},
     "output_type": "execute_result"
    }
   ],
   "source": [
    "array = [i*2 for i in range(1,101) if i%2==0]\n",
    "array"
   ]
  },
  {
   "cell_type": "markdown",
   "metadata": {},
   "source": [
    "## DICTIONARY COMPREHENSION"
   ]
  },
  {
   "cell_type": "code",
   "execution_count": 2,
   "metadata": {},
   "outputs": [
    {
     "data": {
      "text/plain": [
       "{1: 2, 2: 4, 3: 6, 4: 8}"
      ]
     },
     "execution_count": 2,
     "metadata": {},
     "output_type": "execute_result"
    }
   ],
   "source": [
    "dict={i:i*2 for i in range(1,5)}\n",
    "dict"
   ]
  },
  {
   "cell_type": "code",
   "execution_count": 3,
   "metadata": {},
   "outputs": [],
   "source": [
    "names = ['Nico','Zule','Santi']\n",
    "ages = [12,56,98]"
   ]
  },
  {
   "cell_type": "code",
   "execution_count": 4,
   "metadata": {},
   "outputs": [
    {
     "data": {
      "text/plain": [
       "{'Nico': 12, 'Zule': 56, 'Santi': 98}"
      ]
     },
     "execution_count": 4,
     "metadata": {},
     "output_type": "execute_result"
    }
   ],
   "source": [
    "dict = {}\n",
    "for i in range(len(names)):\n",
    "  dict[names[i]] = ages[i]\n",
    "\n",
    "dict"
   ]
  },
  {
   "cell_type": "code",
   "execution_count": 5,
   "metadata": {},
   "outputs": [
    {
     "data": {
      "text/plain": [
       "{'Nico': 12, 'Zule': 56, 'Santi': 98}"
      ]
     },
     "execution_count": 5,
     "metadata": {},
     "output_type": "execute_result"
    }
   ],
   "source": [
    "dict_2 = {names[i] : ages[i] for i in range(len(names))}\n",
    "dict_2"
   ]
  },
  {
   "cell_type": "code",
   "execution_count": 6,
   "metadata": {},
   "outputs": [
    {
     "data": {
      "text/plain": [
       "{'Nico': 12, 'Zule': 56, 'Santi': 98}"
      ]
     },
     "execution_count": 6,
     "metadata": {},
     "output_type": "execute_result"
    }
   ],
   "source": [
    "new_dict = {name: age for (name, age) in zip(names, ages)}\n",
    "new_dict"
   ]
  },
  {
   "cell_type": "code",
   "execution_count": 12,
   "metadata": {},
   "outputs": [
    {
     "data": {
      "text/plain": [
       "[('Nico', 12), ('Zule', 56), ('Santi', 98)]"
      ]
     },
     "execution_count": 12,
     "metadata": {},
     "output_type": "execute_result"
    }
   ],
   "source": [
    "list(zip(names,ages))"
   ]
  },
  {
   "cell_type": "markdown",
   "metadata": {},
   "source": [
    "### CONDITION"
   ]
  },
  {
   "cell_type": "code",
   "execution_count": 17,
   "metadata": {},
   "outputs": [
    {
     "name": "stdout",
     "output_type": "stream",
     "text": [
      "{'col': 47, 'mex': 76, 'bol': 17, 'pe': 11}\n"
     ]
    }
   ],
   "source": [
    "import random\n",
    "countries = ['col', 'mex', 'bol', 'pe']\n",
    "\n",
    "population_v2 = { country: random.randint(1, 100)  for country in countries}\n",
    "print(population_v2)"
   ]
  },
  {
   "cell_type": "code",
   "execution_count": 18,
   "metadata": {},
   "outputs": [
    {
     "name": "stdout",
     "output_type": "stream",
     "text": [
      "{'col': 47, 'mex': 76}\n"
     ]
    }
   ],
   "source": [
    "result = { country: population for (country, population) in population_v2.items() if population > 30 }\n",
    "print(result)\n"
   ]
  },
  {
   "cell_type": "code",
   "execution_count": 21,
   "metadata": {},
   "outputs": [
    {
     "name": "stdout",
     "output_type": "stream",
     "text": [
      "{'o': 'O', 'a': 'A', 'e': 'E', 'u': 'U'}\n"
     ]
    }
   ],
   "source": [
    "text = 'Hola a todos, esta es una cadena de texto de prueba.'\n",
    "unique = { c: c.upper() for c in text if c in 'aeiou' }\n",
    "print(unique)"
   ]
  },
  {
   "cell_type": "code",
   "execution_count": 23,
   "metadata": {},
   "outputs": [
    {
     "data": {
      "text/plain": [
       "{'o': 4, 'a': 7, 'e': 7, 'u': 2}"
      ]
     },
     "execution_count": 23,
     "metadata": {},
     "output_type": "execute_result"
    }
   ],
   "source": [
    "unique = { c: text.count(c) for c in text if c in 'aeiou' }\n",
    "unique"
   ]
  },
  {
   "cell_type": "markdown",
   "metadata": {},
   "source": [
    "## FUNCIONES\n"
   ]
  },
  {
   "cell_type": "code",
   "execution_count": 24,
   "metadata": {},
   "outputs": [
    {
     "name": "stdout",
     "output_type": "stream",
     "text": [
      "10\n",
      "10\n",
      "hola\n"
     ]
    }
   ],
   "source": [
    "def find_volume(length=1, width=1, depth=1):\n",
    "  return length * width * depth, width, 'hola'\n",
    "\n",
    "result, width, text = find_volume(width=10)\n",
    "\n",
    "print(result)\n",
    "print(width)\n",
    "print(text)"
   ]
  },
  {
   "cell_type": "markdown",
   "metadata": {},
   "source": [
    "### LAMBDA"
   ]
  },
  {
   "cell_type": "code",
   "execution_count": 26,
   "metadata": {},
   "outputs": [
    {
     "data": {
      "text/plain": [
       "21"
      ]
     },
     "execution_count": 26,
     "metadata": {},
     "output_type": "execute_result"
    }
   ],
   "source": [
    "increment_v2 = lambda x: x + 1\n",
    "increment_v2(20)"
   ]
  },
  {
   "cell_type": "code",
   "execution_count": 29,
   "metadata": {},
   "outputs": [
    {
     "name": "stdout",
     "output_type": "stream",
     "text": [
      "Full name is Esteban Maya\n"
     ]
    }
   ],
   "source": [
    "\n",
    "full_name = lambda name, last_name: f'Full name is {name.title()} {last_name.title()}'\n",
    "\n",
    "text = full_name('esteban', 'maya')\n",
    "print(text)"
   ]
  },
  {
   "cell_type": "markdown",
   "metadata": {},
   "source": [
    "### HOF"
   ]
  },
  {
   "cell_type": "code",
   "execution_count": 30,
   "metadata": {},
   "outputs": [
    {
     "data": {
      "text/plain": [
       "9"
      ]
     },
     "execution_count": 30,
     "metadata": {},
     "output_type": "execute_result"
    }
   ],
   "source": [
    "def increment(x):\n",
    "  return x + 1\n",
    "\n",
    "increment_v2 = lambda x: x +1\n",
    "\n",
    "def high_ord_func(x, func):\n",
    "  return x + func(x)\n",
    "\n",
    "\n",
    "a= high_ord_func(4,increment)\n",
    "a"
   ]
  },
  {
   "cell_type": "markdown",
   "metadata": {},
   "source": [
    "###  FILTER"
   ]
  },
  {
   "cell_type": "code",
   "execution_count": 31,
   "metadata": {},
   "outputs": [],
   "source": [
    "people = [\n",
    "    {\n",
    "    'name' : 'Pedro',\n",
    "    'country': 'Colombia',\n",
    "    'age' : 18,\n",
    "    'course' : 'developer'\n",
    "    },\n",
    "    {\n",
    "    'name' : 'Juan',\n",
    "    'country': 'Perú',\n",
    "    'age' : 17,\n",
    "    'course' : 'UX'\n",
    "    },\n",
    "    {\n",
    "    'name' : 'Carlos',\n",
    "    'country': 'Chile',\n",
    "    'age' : 31,\n",
    "    'course' : 'Diseño'\n",
    "    },\n",
    "    {\n",
    "    'name' : 'Ana Maria',\n",
    "    'country': 'Colombia',\n",
    "    'age' : 25,\n",
    "    'course' : 'Tester'\n",
    "    }\n",
    "]"
   ]
  },
  {
   "cell_type": "code",
   "execution_count": 32,
   "metadata": {},
   "outputs": [
    {
     "data": {
      "text/plain": [
       "[{'name': 'Pedro', 'country': 'Colombia', 'age': 18, 'course': 'developer'},\n",
       " {'name': 'Ana Maria', 'country': 'Colombia', 'age': 25, 'course': 'Tester'}]"
      ]
     },
     "execution_count": 32,
     "metadata": {},
     "output_type": "execute_result"
    }
   ],
   "source": [
    "countrie = list(filter(lambda people: people['country'] == 'Colombia', people))\n",
    "countrie"
   ]
  },
  {
   "cell_type": "code",
   "execution_count": 33,
   "metadata": {},
   "outputs": [
    {
     "data": {
      "text/plain": [
       "[{'name': 'Pedro', 'country': 'Colombia', 'age': 18, 'course': 'developer'},\n",
       " {'name': 'Carlos', 'country': 'Chile', 'age': 31, 'course': 'Diseño'},\n",
       " {'name': 'Ana Maria', 'country': 'Colombia', 'age': 25, 'course': 'Tester'}]"
      ]
     },
     "execution_count": 33,
     "metadata": {},
     "output_type": "execute_result"
    }
   ],
   "source": [
    "adults= list(filter(lambda x: x['age']>=18,people))\n",
    "adults"
   ]
  },
  {
   "cell_type": "code",
   "execution_count": 45,
   "metadata": {},
   "outputs": [
    {
     "data": {
      "text/plain": [
       "['Pedro', 'Ana Maria']"
      ]
     },
     "execution_count": 45,
     "metadata": {},
     "output_type": "execute_result"
    }
   ],
   "source": [
    "colombian_adults_name=[ adult['name'] for adult in adults if adult['country']=='Colombia']\n",
    "colombian_adults_name"
   ]
  },
  {
   "cell_type": "code",
   "execution_count": 47,
   "metadata": {},
   "outputs": [
    {
     "data": {
      "text/plain": [
       "['Pedro', 'Ana Maria']"
      ]
     },
     "execution_count": 47,
     "metadata": {},
     "output_type": "execute_result"
    }
   ],
   "source": [
    "colombian_adults_name_lambda=list(map(lambda x: x['name'], filter(lambda x: x['country'] == 'Colombia', adults)))\n",
    "colombian_adults_name_lambda"
   ]
  },
  {
   "cell_type": "code",
   "execution_count": 34,
   "metadata": {},
   "outputs": [],
   "source": [
    "matches = [\n",
    "  {\n",
    "    'home_team': 'Bolivia',\n",
    "    'away_team': 'Uruguay',\n",
    "    'home_team_score': 3,\n",
    "    'away_team_score': 1,\n",
    "    'home_team_result': 'Win'\n",
    "  },\n",
    "  {\n",
    "    'home_team': 'Brazil',\n",
    "    'away_team': 'Mexico',\n",
    "    'home_team_score': 1,\n",
    "    'away_team_score': 1,\n",
    "    'home_team_result': 'Draw'\n",
    "  },\n",
    "  {\n",
    "    'home_team': 'Ecuador',\n",
    "    'away_team': 'Venezuela',\n",
    "    'home_team_score': 5,\n",
    "    'away_team_score': 0,\n",
    "    'home_team_result': 'Win'\n",
    "  },\n",
    "]"
   ]
  },
  {
   "cell_type": "code",
   "execution_count": 41,
   "metadata": {},
   "outputs": [
    {
     "data": {
      "text/plain": [
       "[{'home_team': 'Bolivia',\n",
       "  'away_team': 'Uruguay',\n",
       "  'home_team_score': 3,\n",
       "  'away_team_score': 1,\n",
       "  'home_team_result': 'Win'},\n",
       " {'home_team': 'Ecuador',\n",
       "  'away_team': 'Venezuela',\n",
       "  'home_team_score': 5,\n",
       "  'away_team_score': 0,\n",
       "  'home_team_result': 'Win'}]"
      ]
     },
     "execution_count": 41,
     "metadata": {},
     "output_type": "execute_result"
    }
   ],
   "source": [
    "winners = list(filter(lambda x: x['home_team_result']=='Win',matches))\n",
    "winners"
   ]
  },
  {
   "cell_type": "markdown",
   "metadata": {},
   "source": [
    "### REDUCE"
   ]
  },
  {
   "cell_type": "code",
   "execution_count": 48,
   "metadata": {},
   "outputs": [],
   "source": [
    "import functools  "
   ]
  },
  {
   "cell_type": "code",
   "execution_count": 49,
   "metadata": {},
   "outputs": [],
   "source": [
    "numbers = [1, 2, 3, 4]\n",
    "\n",
    "def accum(counter, item):\n",
    "  print('counter => ',counter)\n",
    "  print('item => ',item)\n",
    "  return counter + item"
   ]
  },
  {
   "cell_type": "code",
   "execution_count": 50,
   "metadata": {},
   "outputs": [
    {
     "name": "stdout",
     "output_type": "stream",
     "text": [
      "counter =>  1\n",
      "item =>  2\n",
      "counter =>  3\n",
      "item =>  3\n",
      "counter =>  6\n",
      "item =>  4\n",
      "10\n"
     ]
    }
   ],
   "source": [
    "result = functools.reduce(accum, numbers)\n",
    "\n",
    "print(result)"
   ]
  },
  {
   "cell_type": "markdown",
   "metadata": {},
   "source": [
    "## MODULOS"
   ]
  },
  {
   "cell_type": "markdown",
   "metadata": {},
   "source": [
    "## ITERABLES\n"
   ]
  },
  {
   "cell_type": "code",
   "execution_count": 51,
   "metadata": {},
   "outputs": [],
   "source": [
    "my_iter = iter(range(1,11))\n"
   ]
  },
  {
   "cell_type": "code",
   "execution_count": 62,
   "metadata": {},
   "outputs": [
    {
     "ename": "StopIteration",
     "evalue": "",
     "output_type": "error",
     "traceback": [
      "\u001b[1;31m---------------------------------------------------------------------------\u001b[0m",
      "\u001b[1;31mStopIteration\u001b[0m                             Traceback (most recent call last)",
      "Cell \u001b[1;32mIn[62], line 1\u001b[0m\n\u001b[1;32m----> 1\u001b[0m \u001b[39mnext\u001b[39;49m(my_iter)\n",
      "\u001b[1;31mStopIteration\u001b[0m: "
     ]
    }
   ],
   "source": [
    "next(my_iter)"
   ]
  },
  {
   "cell_type": "markdown",
   "metadata": {},
   "source": [
    "## ERRORES"
   ]
  },
  {
   "cell_type": "code",
   "execution_count": 63,
   "metadata": {},
   "outputs": [
    {
     "ename": "Exception",
     "evalue": "No se permiten menores de edad",
     "output_type": "error",
     "traceback": [
      "\u001b[1;31m---------------------------------------------------------------------------\u001b[0m",
      "\u001b[1;31mException\u001b[0m                                 Traceback (most recent call last)",
      "Cell \u001b[1;32mIn[63], line 3\u001b[0m\n\u001b[0;32m      1\u001b[0m age \u001b[39m=\u001b[39m \u001b[39m10\u001b[39m\n\u001b[0;32m      2\u001b[0m \u001b[39mif\u001b[39;00m age \u001b[39m<\u001b[39m \u001b[39m18\u001b[39m:\n\u001b[1;32m----> 3\u001b[0m   \u001b[39mraise\u001b[39;00m \u001b[39mException\u001b[39;00m(\u001b[39m'\u001b[39m\u001b[39mNo se permiten menores de edad\u001b[39m\u001b[39m'\u001b[39m)\n\u001b[0;32m      5\u001b[0m \u001b[39mprint\u001b[39m(\u001b[39m'\u001b[39m\u001b[39mHola 2\u001b[39m\u001b[39m'\u001b[39m)\n",
      "\u001b[1;31mException\u001b[0m: No se permiten menores de edad"
     ]
    }
   ],
   "source": [
    "age = 10\n",
    "if age < 18:\n",
    "  raise Exception('No se permiten menores de edad')\n",
    "\n",
    "print('Hola 2')"
   ]
  },
  {
   "cell_type": "code",
   "execution_count": 65,
   "metadata": {},
   "outputs": [
    {
     "name": "stdout",
     "output_type": "stream",
     "text": [
      "Uno no es igual a uno\n"
     ]
    }
   ],
   "source": [
    "try:\n",
    "    assert 1!=1, \"Uno no es igual a uno\"\n",
    "except AssertionError as error:\n",
    "    print(error)"
   ]
  },
  {
   "cell_type": "code",
   "execution_count": 67,
   "metadata": {},
   "outputs": [
    {
     "name": "stdout",
     "output_type": "stream",
     "text": [
      "Uno no es igual que uno\n",
      "Hola\n",
      "Hola 2\n"
     ]
    }
   ],
   "source": [
    "try:\n",
    "  print(0 / 0)\n",
    "  assert 1 != 1, 'Uno no es igual que uno'\n",
    "  age = 10\n",
    "  if age < 18:\n",
    "    raise Exception('No se permiten menores de edad')\n",
    "except ZeroDivisionError as error:\n",
    "  print(error)\n",
    "except AssertionError as error:\n",
    "  print(error)\n",
    "except Exception as error:\n",
    "  print(error)\n",
    "\n",
    "print('Hola')\n",
    "print('Hola 2')"
   ]
  },
  {
   "cell_type": "markdown",
   "metadata": {},
   "source": [
    "## LEER UN ARCHIVO DE TEXTO"
   ]
  },
  {
   "cell_type": "code",
   "execution_count": 75,
   "metadata": {},
   "outputs": [
    {
     "data": {
      "text/plain": [
       "'Lorem ipsum dolor sit amet, consectetur adipiscing elit. Suspendisse libero velit, lobortis faucibus mollis et, porttitor in elit. Duis quis purus at mi volutpat bibendum a ut orci. Donec a convallis purus. Sed a mattis leo. Nullam scelerisque tincidunt porttitor. In iaculis mauris arcu, semper ornare nunc bibendum id. Nunc blandit risus vel consequat commodo. Praesent ut convallis est. Nunc vitae rhoncus neque.\\n\\nOrci varius natoque penatibus et magnis dis parturient montes, nascetur ridiculus mus. Aliquam sit amet semper lectus. Nam venenatis mi quis est pellentesque, et malesuada eros tempor. In sit amet ex luctus, rhoncus erat at, auctor justo. In pulvinar metus libero, ut ullamcorper ligula dapibus at. Etiam pulvinar maximus eros eu tristique. Nam rhoncus, neque tristique scelerisque scelerisque, ipsum ante vestibulum velit, vitae condimentum tortor massa at nisi.\\n\\nLorem ipsum dolor sit amet, consectetur adipiscing elit. Proin dignissim felis ex, ut cursus mi vulputate vitae. Quisque sit amet condimentum erat, eu iaculis ipsum. Proin sit amet odio commodo eros rhoncus porttitor dignissim ut turpis. Sed molestie quam vel sagittis tristique. Duis gravida aliquet dolor, at tristique neque commodo quis. Fusce convallis, est at sollicitudin molestie, lectus ex tempor nisl, id sodales est odio eget nisl. Pellentesque pulvinar sem et interdum tempus. Pellentesque habitant morbi tristique senectus et netus et malesuada fames ac turpis egestas. Sed molestie tempus suscipit. Proin eu ligula magna. Nunc sit amet imperdiet sapien. Donec augue augue, elementum eu sem convallis, dictum venenatis odio. Sed mollis lacus eget mi semper placerat. Aliquam id nulla at magna fermentum iaculis. Integer sagittis gravida eros sed pellentesque.'"
      ]
     },
     "execution_count": 75,
     "metadata": {},
     "output_type": "execute_result"
    }
   ],
   "source": [
    "file = open('./archivo.txt')\n",
    "\n",
    "file.read()"
   ]
  },
  {
   "cell_type": "code",
   "execution_count": 79,
   "metadata": {},
   "outputs": [
    {
     "ename": "ValueError",
     "evalue": "I/O operation on closed file.",
     "output_type": "error",
     "traceback": [
      "\u001b[1;31m---------------------------------------------------------------------------\u001b[0m",
      "\u001b[1;31mValueError\u001b[0m                                Traceback (most recent call last)",
      "Cell \u001b[1;32mIn[79], line 1\u001b[0m\n\u001b[1;32m----> 1\u001b[0m file\u001b[39m.\u001b[39;49mreadline()\n",
      "\u001b[1;31mValueError\u001b[0m: I/O operation on closed file."
     ]
    }
   ],
   "source": [
    "file.readline()"
   ]
  },
  {
   "cell_type": "code",
   "execution_count": 76,
   "metadata": {},
   "outputs": [],
   "source": [
    "for line in file:\n",
    "    print(line)"
   ]
  },
  {
   "cell_type": "code",
   "execution_count": 74,
   "metadata": {},
   "outputs": [],
   "source": [
    "file.close()"
   ]
  },
  {
   "cell_type": "code",
   "execution_count": 82,
   "metadata": {},
   "outputs": [
    {
     "name": "stdout",
     "output_type": "stream",
     "text": [
      "Lorem ipsum dolor sit amet, consectetur adipiscing elit. Suspendisse libero velit, lobortis faucibus mollis et, porttitor in elit. Duis quis purus at mi volutpat bibendum a ut orci. Donec a convallis purus. Sed a mattis leo. Nullam scelerisque tincidunt porttitor. In iaculis mauris arcu, semper ornare nunc bibendum id. Nunc blandit risus vel consequat commodo. Praesent ut convallis est. Nunc vitae rhoncus neque.\n",
      "\n",
      "\n",
      "\n",
      "Orci varius natoque penatibus et magnis dis parturient montes, nascetur ridiculus mus. Aliquam sit amet semper lectus. Nam venenatis mi quis est pellentesque, et malesuada eros tempor. In sit amet ex luctus, rhoncus erat at, auctor justo. In pulvinar metus libero, ut ullamcorper ligula dapibus at. Etiam pulvinar maximus eros eu tristique. Nam rhoncus, neque tristique scelerisque scelerisque, ipsum ante vestibulum velit, vitae condimentum tortor massa at nisi.\n",
      "\n",
      "\n",
      "\n",
      "Lorem ipsum dolor sit amet, consectetur adipiscing elit. Proin dignissim felis ex, ut cursus mi vulputate vitae. Quisque sit amet condimentum erat, eu iaculis ipsum. Proin sit amet odio commodo eros rhoncus porttitor dignissim ut turpis. Sed molestie quam vel sagittis tristique. Duis gravida aliquet dolor, at tristique neque commodo quis. Fusce convallis, est at sollicitudin molestie, lectus ex tempor nisl, id sodales est odio eget nisl. Pellentesque pulvinar sem et interdum tempus. Pellentesque habitant morbi tristique senectus et netus et malesuada fames ac turpis egestas. Sed molestie tempus suscipit. Proin eu ligula magna. Nunc sit amet imperdiet sapien. Donec augue augue, elementum eu sem convallis, dictum venenatis odio. Sed mollis lacus eget mi semper placerat. Aliquam id nulla at magna fermentum iaculis. Integer sagittis gravida eros sed pellentesque.Hola mundo\n"
     ]
    }
   ],
   "source": [
    "with open('./Archivo.txt', 'r+') as file:\n",
    "    for line in file:\n",
    "        print(line)\n",
    "    file.write('\\nHola mundo')"
   ]
  },
  {
   "cell_type": "markdown",
   "metadata": {},
   "source": [
    "### LEER CSV"
   ]
  },
  {
   "cell_type": "code",
   "execution_count": null,
   "metadata": {},
   "outputs": [],
   "source": []
  },
  {
   "cell_type": "markdown",
   "metadata": {},
   "source": [
    "## GRAFICAS"
   ]
  },
  {
   "cell_type": "code",
   "execution_count": 83,
   "metadata": {},
   "outputs": [],
   "source": [
    "import matplotlib.pyplot as plt"
   ]
  },
  {
   "cell_type": "code",
   "execution_count": 91,
   "metadata": {},
   "outputs": [
    {
     "data": {
      "image/png": "[encoded data removed]",
      "text/plain": [
       "<Figure size 640x480 with 1 Axes>"
      ]
     },
     "metadata": {},
     "output_type": "display_data"
    }
   ],
   "source": [
    "def generate_bar_chart():\n",
    "    labels=['a','b','c']\n",
    "    values=[100,200,300]\n",
    "    fig, ax = plt.subplots()\n",
    "    ax.bar(labels,values)\n",
    "    plt.show()\n",
    "\n",
    "if __name__ == '__main__':\n",
    "    generate_bar_chart()"
   ]
  },
  {
   "cell_type": "code",
   "execution_count": 92,
   "metadata": {},
   "outputs": [
    {
     "data": {
      "image/png": "[encoded data removed]",
      "text/plain": [
       "<Figure size 640x480 with 1 Axes>"
      ]
     },
     "metadata": {},
     "output_type": "display_data"
    }
   ],
   "source": [
    "generate_bar_chart()"
   ]
  },
  {
   "cell_type": "code",
   "execution_count": 93,
   "metadata": {},
   "outputs": [
    {
     "name": "stdout",
     "output_type": "stream",
     "text": [
      "{1}\n"
     ]
    }
   ],
   "source": [
    "a = {1,2}\n",
    "b = {2,3}\n",
    "print(a - b)"
   ]
  },
  {
   "cell_type": "code",
   "execution_count": 95,
   "metadata": {},
   "outputs": [
    {
     "data": {
      "text/plain": [
       "[0, 1]"
      ]
     },
     "execution_count": 95,
     "metadata": {},
     "output_type": "execute_result"
    }
   ],
   "source": [
    "n= [i-1 for i in range(1,6) if i<=2]\n",
    "n"
   ]
  },
  {
   "cell_type": "code",
   "execution_count": 96,
   "metadata": {},
   "outputs": [
    {
     "name": "stdout",
     "output_type": "stream",
     "text": [
      "{'Juan', 'Miguel', 'Nicolas'}\n"
     ]
    }
   ],
   "source": [
    "names = {'Nicolas', 'Miguel', 'Juan', 'Nicolas'} \n",
    "print(names) "
   ]
  }
 ],
 "metadata": {
  "kernelspec": {
   "display_name": "base",
   "language": "python",
   "name": "python3"
  },
  "language_info": {
   "codemirror_mode": {
    "name": "ipython",
    "version": 3
   },
   "file_extension": ".py",
   "mimetype": "text/x-python",
   "name": "python",
   "nbconvert_exporter": "python",
   "pygments_lexer": "ipython3",
   "version": "3.10.9"
  },
  "orig_nbformat": 4
 },
 "nbformat": 4,
 "nbformat_minor": 2
}
