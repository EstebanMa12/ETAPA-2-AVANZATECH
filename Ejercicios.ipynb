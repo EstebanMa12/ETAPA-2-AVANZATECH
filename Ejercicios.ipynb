{
 "cells": [
  {
   "cell_type": "code",
   "execution_count": 1,
   "metadata": {},
   "outputs": [],
   "source": [
    "def patronDiamante(filas, simbol='*'):\n",
    "    for i in range(1, filas+1):\n",
    "        i =i - (filas//2 +1)\n",
    "        if i<0:\n",
    "            i= -i\n",
    "        print(\" \"*i+ f\"{simbol}\"*(filas - i*2)+\" \"*i)"
   ]
  },
  {
   "cell_type": "code",
   "execution_count": 2,
   "metadata": {},
   "outputs": [
    {
     "name": "stdout",
     "output_type": "stream",
     "text": [
      "    \n",
      " simbolsimbol \n",
      "simbolsimbolsimbolsimbol\n",
      " simbolsimbol \n"
     ]
    }
   ],
   "source": [
    "patronDiamante(4)\n"
   ]
  }
 ],
 "metadata": {
  "kernelspec": {
   "display_name": "Python 3",
   "language": "python",
   "name": "python3"
  },
  "language_info": {
   "codemirror_mode": {
    "name": "ipython",
    "version": 3
   },
   "file_extension": ".py",
   "mimetype": "text/x-python",
   "name": "python",
   "nbconvert_exporter": "python",
   "pygments_lexer": "ipython3",
   "version": "3.10.6"
  },
  "orig_nbformat": 4
 },
 "nbformat": 4,
 "nbformat_minor": 2
}
