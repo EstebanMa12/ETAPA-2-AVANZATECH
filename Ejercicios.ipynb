{
 "cells": [
  {
   "cell_type": "code",
   "execution_count": 1,
   "metadata": {},
   "outputs": [],
   "source": [
    "def patronDiamante(filas, simbol='*'):\n",
    "    for i in range(1, filas+1):\n",
    "        i =i - (filas//2 +1)\n",
    "        if i<0:\n",
    "            i= -i\n",
    "        print(\" \"*i+ f\"{simbol}\"*(filas - i*2)+\" \"*i)"
   ]
  },
  {
   "cell_type": "code",
   "execution_count": 2,
   "metadata": {},
   "outputs": [
    {
     "name": "stdout",
     "output_type": "stream",
     "text": [
      "    \n",
      " simbolsimbol \n",
      "simbolsimbolsimbolsimbol\n",
      " simbolsimbol \n"
     ]
    }
   ],
   "source": [
    "patronDiamante(4)\n"
   ]
  },
  {
   "cell_type": "code",
   "execution_count": 1,
   "metadata": {},
   "outputs": [],
   "source": [
    "def es_primo(num, n=2):\n",
    "    if n >= num:\n",
    "        print(\"Es primo\")\n",
    "        return True\n",
    "    elif num % n != 0:\n",
    "        return es_primo(num, n + 1)\n",
    "    else:\n",
    "        print(\"No es primo\", n, \"es divisor\")\n",
    "        return False"
   ]
  },
  {
   "cell_type": "code",
   "execution_count": 2,
   "metadata": {},
   "outputs": [
    {
     "name": "stdout",
     "output_type": "stream",
     "text": [
      "No es primo 3 es divisor\n"
     ]
    },
    {
     "data": {
      "text/plain": [
       "False"
      ]
     },
     "execution_count": 2,
     "metadata": {},
     "output_type": "execute_result"
    }
   ],
   "source": [
    "es_primo(99)"
   ]
  },
  {
   "cell_type": "code",
   "execution_count": 3,
   "metadata": {},
   "outputs": [
    {
     "name": "stdout",
     "output_type": "stream",
     "text": [
      "0.38011622428894043\n"
     ]
    }
   ],
   "source": [
    "import time\n",
    "inicio = time.time()\n",
    "\n",
    "# Código a medir\n",
    "lista = [i for i in range(10000000) if i%2==0]\n",
    "# -------------\n",
    "\n",
    "fin = time.time()\n",
    "print(fin-inicio) "
   ]
  }
 ],
 "metadata": {
  "kernelspec": {
   "display_name": "Python 3",
   "language": "python",
   "name": "python3"
  },
  "language_info": {
   "codemirror_mode": {
    "name": "ipython",
    "version": 3
   },
   "file_extension": ".py",
   "mimetype": "text/x-python",
   "name": "python",
   "nbconvert_exporter": "python",
   "pygments_lexer": "ipython3",
   "version": "3.10.6"
  },
  "orig_nbformat": 4
 },
 "nbformat": 4,
 "nbformat_minor": 2
}
