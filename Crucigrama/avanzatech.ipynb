{
 "cells": [
  {
   "cell_type": "code",
   "execution_count": 2,
   "metadata": {},
   "outputs": [],
   "source": [
    "array = [\"Avanzatech\",\"Xvxxxxxxxx\",\"X.a.xxxxxx\",\"X..n.xxxxx\",\"Xvxxz.xxxx\",\"Xvxxxa.xxx\",\"Xvxxxxt.xx\",\"Xvxxxxxe.x\",\"Xvxxxxxxc.\",\"Xvxxxxxxxh\"]"
   ]
  },
  {
   "cell_type": "code",
   "execution_count": 3,
   "metadata": {},
   "outputs": [
    {
     "name": "stdout",
     "output_type": "stream",
     "text": [
      "A\n",
      "v\n",
      "a\n",
      "n\n",
      "z\n",
      "a\n",
      "t\n",
      "e\n",
      "c\n",
      "h\n"
     ]
    }
   ],
   "source": [
    "for i in range(len(array)):\n",
    "    print(array[i][i])\n"
   ]
  }
 ],
 "metadata": {
  "kernelspec": {
   "display_name": "base",
   "language": "python",
   "name": "python3"
  },
  "language_info": {
   "codemirror_mode": {
    "name": "ipython",
    "version": 3
   },
   "file_extension": ".py",
   "mimetype": "text/x-python",
   "name": "python",
   "nbconvert_exporter": "python",
   "pygments_lexer": "ipython3",
   "version": "3.10.9"
  },
  "orig_nbformat": 4
 },
 "nbformat": 4,
 "nbformat_minor": 2
}
