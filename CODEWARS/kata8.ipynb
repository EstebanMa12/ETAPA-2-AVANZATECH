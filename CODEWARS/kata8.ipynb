{
 "cells": [
  {
   "cell_type": "markdown",
   "metadata": {},
   "source": [
    "Your start-up's BA has told marketing that your website has a large audience in Scandinavia and surrounding countries. Marketing thinks it would be great to welcome visitors to the site in their own language. Luckily you already use an API that detects the user's location, so this is an easy win.\n",
    "\n",
    "The Task\n",
    "Think of a way to store the languages as a database (eg an object). The languages are listed below so you can copy and paste!\n",
    "Write a 'welcome' function that takes a parameter 'language' (always a string), and returns a greeting - if you have it in your database. It should default to English if the language is not in the database, or in the event of an invalid input."
   ]
  },
  {
   "cell_type": "markdown",
   "metadata": {},
   "source": [
    "Possible invalid inputs include:\n",
    "\n",
    "- IP_ADDRESS_INVALID - not a valid ipv4 or ipv6 ip address\n",
    "- IP_ADDRESS_NOT_FOUND - ip address not in the database\n",
    "- IP_ADDRESS_REQUIRED - no ip address was supplied"
   ]
  },
  {
   "cell_type": "code",
   "execution_count": 2,
   "metadata": {},
   "outputs": [],
   "source": [
    "database= {\n",
    "    'english': 'Welcome',\n",
    "'czech': 'Vitejte',\n",
    "'danish': 'Velkomst',\n",
    "'dutch': 'Welkom',\n",
    "'estonian': 'Tere tulemast',\n",
    "'finnish': 'Tervetuloa',\n",
    "'flemish': 'Welgekomen',\n",
    "'french': 'Bienvenue',\n",
    "'german': 'Willkommen',\n",
    "'irish': 'Failte',\n",
    "'italian': 'Benvenuto',\n",
    "'latvian': 'Gaidits',\n",
    "'lithuanian': 'Laukiamas',\n",
    "'polish': 'Witamy',\n",
    "'spanish': 'Bienvenido',\n",
    "'swedish': 'Valkommen',\n",
    "'welsh': 'Croeso'\n",
    "}"
   ]
  },
  {
   "cell_type": "code",
   "execution_count": 5,
   "metadata": {},
   "outputs": [
    {
     "data": {
      "text/plain": [
       "True"
      ]
     },
     "execution_count": 5,
     "metadata": {},
     "output_type": "execute_result"
    }
   ],
   "source": [
    "'spanish' in database"
   ]
  },
  {
   "cell_type": "code",
   "execution_count": 3,
   "metadata": {},
   "outputs": [
    {
     "data": {
      "text/plain": [
       "'Welcome'"
      ]
     },
     "execution_count": 3,
     "metadata": {},
     "output_type": "execute_result"
    }
   ],
   "source": [
    "database['english']"
   ]
  },
  {
   "cell_type": "code",
   "execution_count": 11,
   "metadata": {},
   "outputs": [],
   "source": [
    "def greet(language):\n",
    "    database= {\n",
    "    'english': 'Welcome',\n",
    "    'czech': 'Vitejte',\n",
    "    'danish': 'Velkomst',\n",
    "    'dutch': 'Welkom',\n",
    "    'estonian': 'Tere tulemast',\n",
    "    'finnish': 'Tervetuloa',\n",
    "    'flemish': 'Welgekomen',\n",
    "    'french': 'Bienvenue',\n",
    "    'german': 'Willkommen',\n",
    "    'irish': 'Failte',\n",
    "    'italian': 'Benvenuto',\n",
    "    'latvian': 'Gaidits',\n",
    "    'lithuanian': 'Laukiamas',\n",
    "    'polish': 'Witamy',\n",
    "    'spanish': 'Bienvenido',\n",
    "    'swedish': 'Valkommen',\n",
    "    'welsh': 'Croeso'\n",
    "    }\n",
    "    class IP_ADDRESS_INVALID(Exception):\n",
    "        pass\n",
    "    class IP_ADDRESS_NOT_FOUND(Exception):\n",
    "        pass\n",
    "    class IP_ADDRESS_REQUIRED(Exception):\n",
    "        pass\n",
    "    if not isinstance(language, str):\n",
    "        raise IP_ADDRESS_INVALID(\"Not a valid IPv4 or IPv6 IP address\")\n",
    "    if language not in database:\n",
    "        raise IP_ADDRESS_NOT_FOUND('IP address not in the database')\n",
    "    if len(language) == 0:\n",
    "        raise IP_ADDRESS_REQUIRED(\"No IP address was supplied\")\n",
    "\n",
    "    return database[language]\n"
   ]
  },
  {
   "cell_type": "code",
   "execution_count": 12,
   "metadata": {},
   "outputs": [
    {
     "ename": "IP_ADDRESS_NOT_FOUND",
     "evalue": "IP address not in the database",
     "output_type": "error",
     "traceback": [
      "\u001b[0;31m---------------------------------------------------------------------------\u001b[0m",
      "\u001b[0;31mIP_ADDRESS_NOT_FOUND\u001b[0m                      Traceback (most recent call last)",
      "Cell \u001b[0;32mIn[12], line 1\u001b[0m\n\u001b[0;32m----> 1\u001b[0m greet(\u001b[39m'\u001b[39;49m\u001b[39m'\u001b[39;49m)\n",
      "Cell \u001b[0;32mIn[11], line 30\u001b[0m, in \u001b[0;36mgreet\u001b[0;34m(language)\u001b[0m\n\u001b[1;32m     28\u001b[0m     \u001b[39mraise\u001b[39;00m IP_ADDRESS_INVALID(\u001b[39m\"\u001b[39m\u001b[39mNot a valid IPv4 or IPv6 IP address\u001b[39m\u001b[39m\"\u001b[39m)\n\u001b[1;32m     29\u001b[0m \u001b[39mif\u001b[39;00m language \u001b[39mnot\u001b[39;00m \u001b[39min\u001b[39;00m database:\n\u001b[0;32m---> 30\u001b[0m     \u001b[39mraise\u001b[39;00m IP_ADDRESS_NOT_FOUND(\u001b[39m'\u001b[39m\u001b[39mIP address not in the database\u001b[39m\u001b[39m'\u001b[39m)\n\u001b[1;32m     31\u001b[0m \u001b[39mif\u001b[39;00m \u001b[39mlen\u001b[39m(language) \u001b[39m==\u001b[39m \u001b[39m0\u001b[39m:\n\u001b[1;32m     32\u001b[0m     \u001b[39mraise\u001b[39;00m IP_ADDRESS_REQUIRED(\u001b[39m\"\u001b[39m\u001b[39mNo IP address was supplied\u001b[39m\u001b[39m\"\u001b[39m)\n",
      "\u001b[0;31mIP_ADDRESS_NOT_FOUND\u001b[0m: IP address not in the database"
     ]
    }
   ],
   "source": [
    "greet('')"
   ]
  },
  {
   "cell_type": "code",
   "execution_count": null,
   "metadata": {},
   "outputs": [],
   "source": [
    "\"\"\" Por weon no leí bien e hice los que no debía hacer, esta es la solución que implementé.  \"\"\"\n",
    "\n",
    "def greet(language):\n",
    "    database= {\n",
    "    'english': 'Welcome',\n",
    "    'czech': 'Vitejte',\n",
    "    'danish': 'Velkomst',\n",
    "    'dutch': 'Welkom',\n",
    "    'estonian': 'Tere tulemast',\n",
    "    'finnish': 'Tervetuloa',\n",
    "    'flemish': 'Welgekomen',\n",
    "    'french': 'Bienvenue',\n",
    "    'german': 'Willkommen',\n",
    "    'irish': 'Failte',\n",
    "    'italian': 'Benvenuto',\n",
    "    'latvian': 'Gaidits',\n",
    "    'lithuanian': 'Laukiamas',\n",
    "    'polish': 'Witamy',\n",
    "    'spanish': 'Bienvenido',\n",
    "    'swedish': 'Valkommen',\n",
    "    'welsh': 'Croeso'\n",
    "    }\n",
    "    if not isinstance(language, str):\n",
    "        return database['english']\n",
    "    if language not in database:\n",
    "        return database['english']\n",
    "    if len(language) == 0:\n",
    "        return database['english']\n",
    "\n",
    "    return database[language]"
   ]
  },
  {
   "cell_type": "code",
   "execution_count": null,
   "metadata": {},
   "outputs": [],
   "source": [
    "\"\"\" Soluciòn que màs me gustó \"\"\"\n",
    "\n",
    "\"\"\" return db.get(language, \"Welcome\") \"\"\" \n",
    "\n",
    "\"\"\" * Solo era utilizar el metodo get \"\"\"\n",
    "\n",
    "\"\"\" o solo utilizando un try - except \"\"\""
   ]
  },
  {
   "cell_type": "markdown",
   "metadata": {},
   "source": [
    "Consider an array/list of sheep where some sheep may be missing from their place. We need a function that counts the number of sheep present in the array (true means present).\n",
    "\n",
    "For example,\n",
    "[True,  True,  True,  False,\n",
    "  True,  True,  True,  True ,\n",
    "  True,  False, True,  False,\n",
    "  True,  False, False, True ,\n",
    "  True,  True,  True,  True ,\n",
    "  False, False, True,  True]\n",
    "The correct answer would be 17.\n",
    "\n",
    "Hint: Don't forget to check for bad values like null/undefined"
   ]
  },
  {
   "cell_type": "code",
   "execution_count": 1,
   "metadata": {},
   "outputs": [],
   "source": [
    "sheep = [True,  True,  True,  False,\n",
    "  True,  True,  True,  True ,\n",
    "  True,  False, True,  False,\n",
    "  True,  False, False, True ,\n",
    "  True,  True,  True,  True ,\n",
    "  False, False, True,  True]"
   ]
  },
  {
   "cell_type": "code",
   "execution_count": 3,
   "metadata": {},
   "outputs": [
    {
     "data": {
      "text/plain": [
       "17"
      ]
     },
     "execution_count": 3,
     "metadata": {},
     "output_type": "execute_result"
    }
   ],
   "source": [
    "counter=0\n",
    "for i in sheep:\n",
    "    if i ==True:\n",
    "        counter += 1\n",
    "counter"
   ]
  },
  {
   "cell_type": "code",
   "execution_count": null,
   "metadata": {},
   "outputs": [],
   "source": [
    "def count_sheeps(sheep):\n",
    "    # TODO May the force be with you\n",
    "    return sheep.count(True)"
   ]
  },
  {
   "cell_type": "markdown",
   "metadata": {},
   "source": [
    "It's pretty straightforward. Your goal is to create a function that removes the first and last characters of a string. You're given one parameter, the original string. You don't have to worry with strings with less than two characters."
   ]
  },
  {
   "cell_type": "code",
   "execution_count": 8,
   "metadata": {},
   "outputs": [
    {
     "data": {
      "text/plain": [
       "''"
      ]
     },
     "execution_count": 8,
     "metadata": {},
     "output_type": "execute_result"
    }
   ],
   "source": [
    "s=''\n",
    "s[1:-1]"
   ]
  }
 ],
 "metadata": {
  "kernelspec": {
   "display_name": "Python 3",
   "language": "python",
   "name": "python3"
  },
  "language_info": {
   "codemirror_mode": {
    "name": "ipython",
    "version": 3
   },
   "file_extension": ".py",
   "mimetype": "text/x-python",
   "name": "python",
   "nbconvert_exporter": "python",
   "pygments_lexer": "ipython3",
   "version": "3.10.6"
  },
  "orig_nbformat": 4
 },
 "nbformat": 4,
 "nbformat_minor": 2
}
