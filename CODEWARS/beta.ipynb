{
 "cells": [
  {
   "cell_type": "code",
   "execution_count": 8,
   "metadata": {},
   "outputs": [],
   "source": [
    "cases = (\n",
    "    'CXXXXXXXXXXXXXXX',\n",
    "    'CXOXXXXXXXXXXXXX',\n",
    "    'CXXXOXXXXXXXXXXX',\n",
    "    'COXOXOXOXOXOXOXO',\n",
    "    'COXXXXOXXXXXXXXX',\n",
    "    'CXXXXXOXXXXXXXXX',\n",
    "    'CXXXXXOOXXXXXXXX',\n",
    "    'CXXOXXXOXOXXOXXX',\n",
    "    'CXXOXXOXXOXXXXXX',\n",
    "    'COXXXOXXXXOXOOXX'\n",
    ")\n",
    "answers = (15, 0, 2, 14, 4, 15, 5, 10, 7, 11)\n"
   ]
  },
  {
   "cell_type": "code",
   "execution_count": null,
   "metadata": {},
   "outputs": [],
   "source": [
    "case= 'CXXOXXOXXOXXXXX'"
   ]
  },
  {
   "cell_type": "code",
   "execution_count": 62,
   "metadata": {},
   "outputs": [
    {
     "data": {
      "text/plain": [
       "['CXX', 'XX', 'XX', 'XXXXX']"
      ]
     },
     "execution_count": 62,
     "metadata": {},
     "output_type": "execute_result"
    }
   ],
   "source": [
    "case.split('O')"
   ]
  },
  {
   "cell_type": "code",
   "execution_count": 68,
   "metadata": {},
   "outputs": [],
   "source": [
    "def cannon_attack(pieces):\n",
    "    i, b = -2, 0\n",
    "    for n in map(len, pieces.split('O')):\n",
    "        print(n)\n",
    "        if n == 0:\n",
    "            break\n",
    "        i += n + 1\n",
    "        if n % 2 == 0:\n",
    "            if b > 0:\n",
    "                n -= 1\n",
    "            elif n >= 6:\n",
    "                n -= 3\n",
    "            else:\n",
    "                return i - 1\n",
    "        b = n // 2\n",
    "    return i"
   ]
  },
  {
   "cell_type": "code",
   "execution_count": 69,
   "metadata": {},
   "outputs": [
    {
     "name": "stdout",
     "output_type": "stream",
     "text": [
      "3\n",
      "2\n",
      "2\n"
     ]
    },
    {
     "data": {
      "text/plain": [
       "7"
      ]
     },
     "execution_count": 69,
     "metadata": {},
     "output_type": "execute_result"
    }
   ],
   "source": [
    "cannon_attack(case)"
   ]
  }
 ],
 "metadata": {
  "kernelspec": {
   "display_name": "base",
   "language": "python",
   "name": "python3"
  },
  "language_info": {
   "codemirror_mode": {
    "name": "ipython",
    "version": 3
   },
   "file_extension": ".py",
   "mimetype": "text/x-python",
   "name": "python",
   "nbconvert_exporter": "python",
   "pygments_lexer": "ipython3",
   "version": "3.10.9"
  },
  "orig_nbformat": 4
 },
 "nbformat": 4,
 "nbformat_minor": 2
}
