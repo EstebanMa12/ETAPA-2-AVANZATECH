{
 "cells": [
  {
   "cell_type": "markdown",
   "metadata": {},
   "source": [
    "Do you know how to make a spiral? Let's test it!\n",
    "Classic definition: A spiral is a curve which emanates from a central point, getting progressively farther away as it revolves around the point.\n",
    "\n",
    "Your objective is to complete a function createSpiral(N) that receives an integer N and returns an NxN two-dimensional array with numbers 1 through NxN represented as a clockwise spiral.\n",
    "\n",
    "Return an empty array if N < 1 or N is not int / number\n",
    "\n",
    "Examples:\n",
    "\n",
    "N = 3 Output: [[1,2,3],[8,9,4],[7,6,5]]\n",
    "\n",
    "1    2    3    \n",
    "8    9    4    \n",
    "7    6    5    \n",
    "N = 4 Output: [[1,2,3,4],[12,13,14,5],[11,16,15,6],[10,9,8,7]]\n",
    "\n",
    "1   2   3   4\n",
    "12  13  14  5\n",
    "11  16  15  6\n",
    "10  9   8   7\n",
    "N = 5 Output: [[1,2,3,4,5],[16,17,18,19,6],[15,24,25,20,7],[14,23,22,21,8],[13,12,11,10,9]]\n",
    "\n",
    "1   2   3   4   5    \n",
    "16  17  18  19  6    \n",
    "15  24  25  20  7    \n",
    "14  23  22  21  8    \n",
    "13  12  11  10  9"
   ]
  },
  {
   "cell_type": "code",
   "execution_count": 6,
   "metadata": {},
   "outputs": [],
   "source": [
    "N=3\n",
    "\n",
    "array = [1,2,3,4,5,6,7,8,9]"
   ]
  },
  {
   "cell_type": "code",
   "execution_count": 2,
   "metadata": {},
   "outputs": [
    {
     "data": {
      "text/plain": [
       "-1"
      ]
     },
     "execution_count": 2,
     "metadata": {},
     "output_type": "execute_result"
    }
   ],
   "source": [
    "i,b= -1,0"
   ]
  },
  {
   "cell_type": "code",
   "execution_count": 8,
   "metadata": {},
   "outputs": [
    {
     "name": "stdout",
     "output_type": "stream",
     "text": [
      "1\n",
      "2\n",
      "3\n"
     ]
    }
   ],
   "source": [
    "for x in range(1,N+1):\n",
    "    print(x)"
   ]
  },
  {
   "cell_type": "code",
   "execution_count": 44,
   "metadata": {},
   "outputs": [
    {
     "data": {
      "text/plain": [
       "[[0.0, 0.0, 0.0], [0.0, 0.0, 0.0], [0.0, 0.0, 0.0]]"
      ]
     },
     "execution_count": 44,
     "metadata": {},
     "output_type": "execute_result"
    }
   ],
   "source": [
    "import numpy as np\n",
    "matrix = np.zeros((N,N))\n",
    "a= [list(arr) for arr in matrix]\n",
    "a\n"
   ]
  },
  {
   "cell_type": "code",
   "execution_count": 55,
   "metadata": {},
   "outputs": [],
   "source": [
    "import numpy as np\n",
    "def createSpiral(N):\n",
    "    if not isinstance(N,int) or N<1:\n",
    "        return []\n",
    "    matrix = np.zeros((N,N))\n",
    "    directions = [(0, 1), (1, 0), (0, -1), (-1, 0)]   # Right, Down, Left, Up\n",
    "    direction_idx = 0  \n",
    "    n=1\n",
    "    row,col=0,0\n",
    "    for i in range(N*N):\n",
    "        matrix[row][col]=n\n",
    "        n+= 1\n",
    "        next_row = row + directions[direction_idx][0]\n",
    "        next_col = col + directions[direction_idx][1]\n",
    "\n",
    "        if (\n",
    "            next_row < 0\n",
    "            or next_row >= N\n",
    "            or next_col < 0\n",
    "            or next_col >= N\n",
    "            or matrix[next_row][next_col] != 0\n",
    "        ):\n",
    "            direction_idx = (direction_idx + 1) % 4  # Change direction\n",
    "            next_row = row + directions[direction_idx][0]\n",
    "            next_col = col + directions[direction_idx][1]\n",
    "        \n",
    "        row, col = next_row, next_col\n",
    "    finalMatrix=[list(arr) for arr in matrix]\n",
    "    return [[int(element) for element in sublist] for sublist in finalMatrix]\n"
   ]
  },
  {
   "cell_type": "code",
   "execution_count": 57,
   "metadata": {},
   "outputs": [
    {
     "data": {
      "text/plain": [
       "[[1, 2, 3, 4, 5, 6, 7],\n",
       " [24, 25, 26, 27, 28, 29, 8],\n",
       " [23, 40, 41, 42, 43, 30, 9],\n",
       " [22, 39, 48, 49, 44, 31, 10],\n",
       " [21, 38, 47, 46, 45, 32, 11],\n",
       " [20, 37, 36, 35, 34, 33, 12],\n",
       " [19, 18, 17, 16, 15, 14, 13]]"
      ]
     },
     "execution_count": 57,
     "metadata": {},
     "output_type": "execute_result"
    }
   ],
   "source": [
    "createSpiral(7)"
   ]
  },
  {
   "cell_type": "code",
   "execution_count": 22,
   "metadata": {},
   "outputs": [
    {
     "data": {
      "text/plain": [
       "0"
      ]
     },
     "execution_count": 22,
     "metadata": {},
     "output_type": "execute_result"
    }
   ],
   "source": [
    "directions = [(0, 1), (1, 0), (0, -1), (-1, 0)]   # Right, Down, Left, Up\n",
    "direction_idx = 0  \n",
    "directions[direction_idx][0]"
   ]
  },
  {
   "cell_type": "code",
   "execution_count": 54,
   "metadata": {},
   "outputs": [
    {
     "data": {
      "text/plain": [
       "0"
      ]
     },
     "execution_count": 54,
     "metadata": {},
     "output_type": "execute_result"
    }
   ],
   "source": [
    "direction_idx = (direction_idx + 1) % 4\n",
    "direction_idx"
   ]
  },
  {
   "cell_type": "code",
   "execution_count": 36,
   "metadata": {},
   "outputs": [
    {
     "data": {
      "text/plain": [
       "3"
      ]
     },
     "execution_count": 36,
     "metadata": {},
     "output_type": "execute_result"
    }
   ],
   "source": [
    "3%4"
   ]
  },
  {
   "cell_type": "code",
   "execution_count": null,
   "metadata": {},
   "outputs": [],
   "source": [
    "def reference(n):\n",
    "    if (not type(n) is int): return []\n",
    "    a = [[0 for col in range(n)] for row in range(n)];\n",
    "    steps = [0, 1, 0, -1]\n",
    "    turn = 0\n",
    "    c = 1\n",
    "    i = 0\n",
    "    j = 0\n",
    "    passed = 0\n",
    "    original = n\n",
    "    while n > 0:\n",
    "        a[i][j] = c\n",
    "        if (c - passed) % n == 0:\n",
    "            passed += n\n",
    "            if (turn % 2) == 0:\n",
    "                n-=1\n",
    "            turn+=1\n",
    "        i += steps[(turn + 4) % 4]\n",
    "        j += steps[(turn + 5) % 4]\n",
    "        c+=1\n",
    "    return a\n"
   ]
  },
  {
   "cell_type": "markdown",
   "metadata": {},
   "source": [
    "Write a function named first_non_repeating_letter that takes a string input, and returns the first character that is not repeated anywhere in the string.\n",
    "\n",
    "For example, if given the input 'stress', the function should return 't', since the letter t only occurs once in the string, and occurs first in the string.\n",
    "\n",
    "As an added challenge, upper- and lowercase letters are considered the same character, but the function should return the correct case for the initial letter. For example, the input 'sTreSS' should return 'T'.\n",
    "\n",
    "If a string contains all repeating characters, it should return an empty string (\"\") or None -- see sample tests."
   ]
  },
  {
   "cell_type": "code",
   "execution_count": 2,
   "metadata": {},
   "outputs": [],
   "source": [
    "def first_non_repeating_letter(s, i =0):\n",
    "    if s.upper().count(s.upper()[i])==1 :\n",
    "        return s[i]\n",
    "    else:\n",
    "        i+=1\n",
    "        first_non_repeating_letter(s,i)"
   ]
  },
  {
   "cell_type": "code",
   "execution_count": 4,
   "metadata": {},
   "outputs": [],
   "source": [
    "def first_non_repeating_letter(s, i=0):\n",
    "    s_lower = s.lower()  # Convert the string to lowercase for case-insensitive comparison\n",
    "\n",
    "    if i == len(s):  # Base case: if we have reached the end of the string\n",
    "        return ''   # No non-repeating letter found\n",
    "\n",
    "    current_char = s_lower[i]\n",
    "\n",
    "    # Check if the current character appears exactly once in the entire string\n",
    "    if s_lower.count(current_char) == 1:\n",
    "        return s[i]  # Return the original character from the original string\n",
    "    else:\n",
    "        return first_non_repeating_letter(s, i + 1) "
   ]
  },
  {
   "cell_type": "code",
   "execution_count": 5,
   "metadata": {},
   "outputs": [
    {
     "name": "stdout",
     "output_type": "stream",
     "text": [
      "T\n"
     ]
    }
   ],
   "source": [
    "s = 'sTreSS'\n",
    "print(first_non_repeating_letter(s))"
   ]
  },
  {
   "cell_type": "code",
   "execution_count": null,
   "metadata": {},
   "outputs": [],
   "source": [
    "s"
   ]
  },
  {
   "cell_type": "markdown",
   "metadata": {},
   "source": [
    "La siguiente solución fue con un for \n"
   ]
  },
  {
   "cell_type": "code",
   "execution_count": null,
   "metadata": {},
   "outputs": [],
   "source": [
    "def first_non_repeating_letter(string):\n",
    "    string_lower = string.lower()\n",
    "    for i, letter in enumerate(string_lower):\n",
    "        if string_lower.count(letter) == 1:\n",
    "            return string[i]\n",
    "            \n",
    "    return \"\""
   ]
  },
  {
   "cell_type": "markdown",
   "metadata": {},
   "source": [
    "Write a function that when given a URL as a string, parses out just the domain name and returns it as a string. For example:\n",
    "\n",
    "* url = \"http://github.com/carbonfive/raygun\" -> domain name = \"github\"\n",
    "* url = \"http://www.zombie-bites.com\"         -> domain name = \"zombie-bites\"\n",
    "* url = \"https://www.cnet.com\"                -> domain name = cnet\""
   ]
  },
  {
   "cell_type": "code",
   "execution_count": 50,
   "metadata": {},
   "outputs": [
    {
     "data": {
      "text/plain": [
       "['www', 'xakep', 'ru']"
      ]
     },
     "execution_count": 50,
     "metadata": {},
     "output_type": "execute_result"
    }
   ],
   "source": [
    "url = \"www.xakep.ru\"\n",
    "\n",
    "url.split('.')\n"
   ]
  },
  {
   "cell_type": "code",
   "execution_count": 54,
   "metadata": {},
   "outputs": [],
   "source": [
    "def domain_name(url):\n",
    "    if '://' in url:\n",
    "        url = url.split('://')[1].split('.')\n",
    "    else:\n",
    "        url = url.split('.')\n",
    "    if 'www' in url:\n",
    "        return url[1]\n",
    "    else:\n",
    "        return url[0]"
   ]
  },
  {
   "cell_type": "code",
   "execution_count": 55,
   "metadata": {},
   "outputs": [
    {
     "data": {
      "text/plain": [
       "'xakep'"
      ]
     },
     "execution_count": 55,
     "metadata": {},
     "output_type": "execute_result"
    }
   ],
   "source": [
    "domain_name(url)"
   ]
  },
  {
   "cell_type": "code",
   "execution_count": null,
   "metadata": {},
   "outputs": [],
   "source": [
    "## Respuesta que más me gustó \n",
    "\n",
    "def domain_name(url):\n",
    "    return url.split(\"//\")[-1].split(\"www.\")[-1].split(\".\")[0]"
   ]
  },
  {
   "cell_type": "markdown",
   "metadata": {},
   "source": [
    "Complete the function scramble(str1, str2) that returns true if a portion of str1 characters can be rearranged to match str2, otherwise returns false.\n",
    "\n",
    "Notes:\n",
    "\n",
    "Only lower case letters will be used (a-z). No punctuation or digits will be included.\n",
    "Performance needs to be considered.\n",
    "\n",
    "Examples\n",
    "\n",
    "- scramble('rkqodlw', 'world') ==> True\n",
    "- scramble('cedewaraaossoqqyt', 'codewars') ==> True\n",
    "- scramble('katas', 'steak') ==> False"
   ]
  },
  {
   "cell_type": "code",
   "execution_count": 1,
   "metadata": {},
   "outputs": [],
   "source": [
    "s1= 'rkqodlw'\n",
    "s2= 'world'"
   ]
  },
  {
   "cell_type": "code",
   "execution_count": 12,
   "metadata": {},
   "outputs": [
    {
     "name": "stdout",
     "output_type": "stream",
     "text": [
      "True\n"
     ]
    }
   ],
   "source": [
    "for letter in set(s2):\n",
    "    if s1.count(letter)<s2.count(letter):\n",
    "        print(False)    \n",
    "print(True)"
   ]
  },
  {
   "cell_type": "code",
   "execution_count": 13,
   "metadata": {},
   "outputs": [],
   "source": [
    "from collections import Counter\n",
    "def solver(s1,s2):\n",
    "    return len(Counter(s2)- Counter(s1)) == 0"
   ]
  },
  {
   "cell_type": "code",
   "execution_count": 19,
   "metadata": {},
   "outputs": [
    {
     "data": {
      "text/plain": [
       "Counter({'r': 1, 'k': 1, 'q': 1, 'o': 1, 'd': 1, 'l': 1, 'w': 1})"
      ]
     },
     "execution_count": 19,
     "metadata": {},
     "output_type": "execute_result"
    }
   ],
   "source": [
    "Counter(s2)\n",
    "Counter(s1)"
   ]
  },
  {
   "cell_type": "code",
   "execution_count": 15,
   "metadata": {},
   "outputs": [
    {
     "data": {
      "text/plain": [
       "True"
      ]
     },
     "execution_count": 15,
     "metadata": {},
     "output_type": "execute_result"
    }
   ],
   "source": [
    "solver(s1,s2)"
   ]
  },
  {
   "cell_type": "markdown",
   "metadata": {},
   "source": [
    "Your job is to write a function which increments a string, to create a new string.\n",
    "\n",
    "If the string already ends with a number, the number should be incremented by 1.\n",
    "If the string does not end with a number. the number 1 should be appended to the new string.\n",
    "Examples:\n",
    "\n",
    "- foo -> foo1\n",
    "\n",
    "- foobar23 -> foobar24\n",
    "\n",
    "- foo0042 -> foo0043\n",
    "\n",
    "- foo9 -> foo10\n",
    "\n",
    "- foo099 -> foo100\n",
    "\n",
    "Attention: If the number has leading zeros the amount of digits should be considered."
   ]
  },
  {
   "cell_type": "code",
   "execution_count": 44,
   "metadata": {},
   "outputs": [],
   "source": [
    "strng=\"$z@i99614300SG5287l-|SYA<X#186qh_:EiTix91`afBA?dC~374759243$iHss939307869389\""
   ]
  },
  {
   "cell_type": "code",
   "execution_count": 45,
   "metadata": {},
   "outputs": [
    {
     "data": {
      "text/plain": [
       "False"
      ]
     },
     "execution_count": 45,
     "metadata": {},
     "output_type": "execute_result"
    }
   ],
   "source": [
    "strng[len(strng)-1].isalpha()"
   ]
  },
  {
   "cell_type": "code",
   "execution_count": 63,
   "metadata": {},
   "outputs": [
    {
     "name": "stdout",
     "output_type": "stream",
     "text": [
      "[62]\n",
      "[62, 62]\n",
      "[62, 62, 61]\n",
      "[62, 62, 61, 3]\n",
      "[62, 62, 61, 3, 48]\n",
      "[62, 62, 61, 3, 48, 47]\n",
      "[62, 62, 61, 3, 48, 47, 23]\n",
      "[62, 62, 61, 3, 48, 47, 23, 44]\n",
      "[62, 62, 61, 3, 48, 47, 23, 44, 43]\n",
      "[62, 62, 61, 3, 48, 47, 23, 44, 43, 42]\n",
      "[62, 62, 61, 3, 48, 47, 23, 44, 43, 42, 38]\n",
      "[62, 62, 61, 3, 48, 47, 23, 44, 43, 42, 38, 3]\n",
      "[62, 62, 61, 3, 48, 47, 23, 44, 43, 42, 38, 3, 36]\n",
      "[62, 62, 61, 3, 48, 47, 23, 44, 43, 42, 38, 3, 36, 3]\n",
      "[62, 62, 61, 3, 48, 47, 23, 44, 43, 42, 38, 3, 36, 3, 34]\n",
      "[62, 62, 61, 3, 48, 47, 23, 44, 43, 42, 38, 3, 36, 3, 34, 31]\n",
      "[62, 62, 61, 3, 48, 47, 23, 44, 43, 42, 38, 3, 36, 3, 34, 31, 30]\n",
      "[62, 62, 61, 3, 48, 47, 23, 44, 43, 42, 38, 3, 36, 3, 34, 31, 30, 25]\n",
      "[62, 62, 61, 3, 48, 47, 23, 44, 43, 42, 38, 3, 36, 3, 34, 31, 30, 25, 23]\n",
      "[62, 62, 61, 3, 48, 47, 23, 44, 43, 42, 38, 3, 36, 3, 34, 31, 30, 25, 23, 22]\n",
      "[62, 62, 61, 3, 48, 47, 23, 44, 43, 42, 38, 3, 36, 3, 34, 31, 30, 25, 23, 22, 12]\n",
      "[62, 62, 61, 3, 48, 47, 23, 44, 43, 42, 38, 3, 36, 3, 34, 31, 30, 25, 23, 22, 12, 18]\n",
      "[62, 62, 61, 3, 48, 47, 23, 44, 43, 42, 38, 3, 36, 3, 34, 31, 30, 25, 23, 22, 12, 18, 13]\n",
      "[62, 62, 61, 3, 48, 47, 23, 44, 43, 42, 38, 3, 36, 3, 34, 31, 30, 25, 23, 22, 12, 18, 13, 12]\n",
      "[62, 62, 61, 3, 48, 47, 23, 44, 43, 42, 38, 3, 36, 3, 34, 31, 30, 25, 23, 22, 12, 18, 13, 12, 3]\n",
      "[62, 62, 61, 3, 48, 47, 23, 44, 43, 42, 38, 3, 36, 3, 34, 31, 30, 25, 23, 22, 12, 18, 13, 12, 3, 1]\n"
     ]
    },
    {
     "data": {
      "text/plain": [
       "'s'"
      ]
     },
     "execution_count": 63,
     "metadata": {},
     "output_type": "execute_result"
    }
   ],
   "source": [
    "index=[]\n",
    "for letter in strng[::-1]:\n",
    "    if letter.isalpha():\n",
    "        index.append(strng.index(letter))\n",
    "        print(index)\n",
    "\"\"\" number = int(strng[index[0]+1:]) \"\"\"\n",
    "\"\"\" f'{strng[:index[0]+1]}{number+1}' \"\"\"\n",
    "strng[index[0]+1]\n",
    "\n"
   ]
  },
  {
   "cell_type": "code",
   "execution_count": 31,
   "metadata": {},
   "outputs": [
    {
     "data": {
      "text/plain": [
       "[0]"
      ]
     },
     "execution_count": 31,
     "metadata": {},
     "output_type": "execute_result"
    }
   ],
   "source": [
    "index"
   ]
  },
  {
   "cell_type": "code",
   "execution_count": null,
   "metadata": {},
   "outputs": [],
   "source": [
    "def increment_string(strng):\n",
    "    print(strng)\n",
    "    if not strng or strng.isalpha():\n",
    "        print(f'salida si no hay string o si solo es de alfabeto{strng}1')\n",
    "        return f'{strng}1'\n",
    "    if  strng.isnumeric():\n",
    "        print(f'es numerico {strng}')\n",
    "        return str(int(strng)+1).zfill(len(strng))\n",
    "    \n",
    "    index = []\n",
    "    for letter in strng[::-1]:\n",
    "        if not letter.isnumeric():\n",
    "            index.append(strng.index(letter))\n",
    "    if not index:\n",
    "        return f'{strng}1'\n",
    "    \n",
    "    \n",
    "    number = int(strng[index[0]+1:])\n",
    "    incremented_number = str(number + 1).zfill(len(strng) - index[0] - 1)\n",
    "    print(f'esta es la salida {strng[:index[0]+1]}{incremented_number}')\n",
    "    return f'{strng[:index[0]+1]}{incremented_number}'"
   ]
  },
  {
   "cell_type": "code",
   "execution_count": null,
   "metadata": {},
   "outputs": [],
   "source": [
    "def increment_string(strng):\n",
    "    head = strng.rstrip('0123456789')\n",
    "    tail = strng[len(head):]\n",
    "    if tail == \"\": return strng+\"1\"\n",
    "    return head + str(int(tail) + 1).zfill(len(tail))"
   ]
  },
  {
   "cell_type": "code",
   "execution_count": 65,
   "metadata": {},
   "outputs": [
    {
     "data": {
      "text/plain": [
       "[3, 6, 9, 3, 6]"
      ]
     },
     "execution_count": 65,
     "metadata": {},
     "output_type": "execute_result"
    }
   ],
   "source": [
    "array= [1,2,3,4,5,6,7,8,9,1,2,3,1,4,6,3,1]\n",
    "\n",
    "array[2::3]"
   ]
  },
  {
   "cell_type": "markdown",
   "metadata": {},
   "source": [
    "Write a program that will calculate the number of trailing zeros in a factorial of a given number.\n",
    "\n",
    "N! = 1 * 2 * 3 *  ... * N\n",
    "\n",
    "Be careful 1000! has 2568 digits...\n",
    "\n",
    "For more info, see: http://mathworld.wolfram.com/Factorial.html\n",
    "\n",
    "Examples\n",
    "zeros(6) = 1\n",
    "#### 6! = 1 * 2 * 3 * 4 * 5 * 6 = 720 --> 1 trailing zero\n",
    "\n",
    "zeros(12) = 2\n",
    "#### 12! = 479001600 --> 2 trailing zeros\n",
    "Hint: You're not meant to calculate the factorial. Find another way to find the number of zeros."
   ]
  },
  {
   "cell_type": "code",
   "execution_count": 14,
   "metadata": {},
   "outputs": [],
   "source": [
    "n=25"
   ]
  },
  {
   "cell_type": "code",
   "execution_count": 15,
   "metadata": {},
   "outputs": [
    {
     "name": "stdout",
     "output_type": "stream",
     "text": [
      "Esta es la entrada 25\n",
      "n//=5 => 5\n",
      "Este es el contador 5\n",
      "Esta es la entrada 5\n",
      "n//=5 => 1\n",
      "Este es el contador 6\n",
      "6\n"
     ]
    }
   ],
   "source": [
    "count = 0\n",
    "while n >= 5:\n",
    "    print(f'Esta es la entrada {n}')\n",
    "    n //= 5\n",
    "    print(f'n//=5 => {n}')\n",
    "    count += n\n",
    "    print(f'Este es el contador {count}')\n",
    "print(count)"
   ]
  },
  {
   "cell_type": "code",
   "execution_count": 16,
   "metadata": {},
   "outputs": [
    {
     "data": {
      "text/plain": [
       "3"
      ]
     },
     "execution_count": 16,
     "metadata": {},
     "output_type": "execute_result"
    }
   ],
   "source": [
    "15//5"
   ]
  }
 ],
 "metadata": {
  "kernelspec": {
   "display_name": "Python 3",
   "language": "python",
   "name": "python3"
  },
  "language_info": {
   "codemirror_mode": {
    "name": "ipython",
    "version": 3
   },
   "file_extension": ".py",
   "mimetype": "text/x-python",
   "name": "python",
   "nbconvert_exporter": "python",
   "pygments_lexer": "ipython3",
   "version": "3.10.11"
  },
  "orig_nbformat": 4
 },
 "nbformat": 4,
 "nbformat_minor": 2
}
