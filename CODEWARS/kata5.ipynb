{
 "cells": [
  {
   "cell_type": "markdown",
   "metadata": {},
   "source": [
    "Do you know how to make a spiral? Let's test it!\n",
    "Classic definition: A spiral is a curve which emanates from a central point, getting progressively farther away as it revolves around the point.\n",
    "\n",
    "Your objective is to complete a function createSpiral(N) that receives an integer N and returns an NxN two-dimensional array with numbers 1 through NxN represented as a clockwise spiral.\n",
    "\n",
    "Return an empty array if N < 1 or N is not int / number\n",
    "\n",
    "Examples:\n",
    "\n",
    "N = 3 Output: [[1,2,3],[8,9,4],[7,6,5]]\n",
    "\n",
    "1    2    3    \n",
    "8    9    4    \n",
    "7    6    5    \n",
    "N = 4 Output: [[1,2,3,4],[12,13,14,5],[11,16,15,6],[10,9,8,7]]\n",
    "\n",
    "1   2   3   4\n",
    "12  13  14  5\n",
    "11  16  15  6\n",
    "10  9   8   7\n",
    "N = 5 Output: [[1,2,3,4,5],[16,17,18,19,6],[15,24,25,20,7],[14,23,22,21,8],[13,12,11,10,9]]\n",
    "\n",
    "1   2   3   4   5    \n",
    "16  17  18  19  6    \n",
    "15  24  25  20  7    \n",
    "14  23  22  21  8    \n",
    "13  12  11  10  9"
   ]
  },
  {
   "cell_type": "code",
   "execution_count": 6,
   "metadata": {},
   "outputs": [],
   "source": [
    "N=3\n",
    "\n",
    "array = [1,2,3,4,5,6,7,8,9]"
   ]
  },
  {
   "cell_type": "code",
   "execution_count": 2,
   "metadata": {},
   "outputs": [
    {
     "data": {
      "text/plain": [
       "-1"
      ]
     },
     "execution_count": 2,
     "metadata": {},
     "output_type": "execute_result"
    }
   ],
   "source": [
    "i,b= -1,0"
   ]
  },
  {
   "cell_type": "code",
   "execution_count": 8,
   "metadata": {},
   "outputs": [
    {
     "name": "stdout",
     "output_type": "stream",
     "text": [
      "1\n",
      "2\n",
      "3\n"
     ]
    }
   ],
   "source": [
    "for x in range(1,N+1):\n",
    "    print(x)"
   ]
  },
  {
   "cell_type": "code",
   "execution_count": 44,
   "metadata": {},
   "outputs": [
    {
     "data": {
      "text/plain": [
       "[[0.0, 0.0, 0.0], [0.0, 0.0, 0.0], [0.0, 0.0, 0.0]]"
      ]
     },
     "execution_count": 44,
     "metadata": {},
     "output_type": "execute_result"
    }
   ],
   "source": [
    "import numpy as np\n",
    "matrix = np.zeros((N,N))\n",
    "a= [list(arr) for arr in matrix]\n",
    "a\n"
   ]
  },
  {
   "cell_type": "code",
   "execution_count": 55,
   "metadata": {},
   "outputs": [],
   "source": [
    "import numpy as np\n",
    "def createSpiral(N):\n",
    "    if not isinstance(N,int) or N<1:\n",
    "        return []\n",
    "    matrix = np.zeros((N,N))\n",
    "    directions = [(0, 1), (1, 0), (0, -1), (-1, 0)]   # Right, Down, Left, Up\n",
    "    direction_idx = 0  \n",
    "    n=1\n",
    "    row,col=0,0\n",
    "    for i in range(N*N):\n",
    "        matrix[row][col]=n\n",
    "        n+= 1\n",
    "        next_row = row + directions[direction_idx][0]\n",
    "        next_col = col + directions[direction_idx][1]\n",
    "\n",
    "        if (\n",
    "            next_row < 0\n",
    "            or next_row >= N\n",
    "            or next_col < 0\n",
    "            or next_col >= N\n",
    "            or matrix[next_row][next_col] != 0\n",
    "        ):\n",
    "            direction_idx = (direction_idx + 1) % 4  # Change direction\n",
    "            next_row = row + directions[direction_idx][0]\n",
    "            next_col = col + directions[direction_idx][1]\n",
    "        \n",
    "        row, col = next_row, next_col\n",
    "    finalMatrix=[list(arr) for arr in matrix]\n",
    "    return [[int(element) for element in sublist] for sublist in finalMatrix]\n"
   ]
  },
  {
   "cell_type": "code",
   "execution_count": 57,
   "metadata": {},
   "outputs": [
    {
     "data": {
      "text/plain": [
       "[[1, 2, 3, 4, 5, 6, 7],\n",
       " [24, 25, 26, 27, 28, 29, 8],\n",
       " [23, 40, 41, 42, 43, 30, 9],\n",
       " [22, 39, 48, 49, 44, 31, 10],\n",
       " [21, 38, 47, 46, 45, 32, 11],\n",
       " [20, 37, 36, 35, 34, 33, 12],\n",
       " [19, 18, 17, 16, 15, 14, 13]]"
      ]
     },
     "execution_count": 57,
     "metadata": {},
     "output_type": "execute_result"
    }
   ],
   "source": [
    "createSpiral(7)"
   ]
  },
  {
   "cell_type": "code",
   "execution_count": 22,
   "metadata": {},
   "outputs": [
    {
     "data": {
      "text/plain": [
       "0"
      ]
     },
     "execution_count": 22,
     "metadata": {},
     "output_type": "execute_result"
    }
   ],
   "source": [
    "directions = [(0, 1), (1, 0), (0, -1), (-1, 0)]   # Right, Down, Left, Up\n",
    "direction_idx = 0  \n",
    "directions[direction_idx][0]"
   ]
  },
  {
   "cell_type": "code",
   "execution_count": 54,
   "metadata": {},
   "outputs": [
    {
     "data": {
      "text/plain": [
       "0"
      ]
     },
     "execution_count": 54,
     "metadata": {},
     "output_type": "execute_result"
    }
   ],
   "source": [
    "direction_idx = (direction_idx + 1) % 4\n",
    "direction_idx"
   ]
  },
  {
   "cell_type": "code",
   "execution_count": 36,
   "metadata": {},
   "outputs": [
    {
     "data": {
      "text/plain": [
       "3"
      ]
     },
     "execution_count": 36,
     "metadata": {},
     "output_type": "execute_result"
    }
   ],
   "source": [
    "3%4"
   ]
  },
  {
   "cell_type": "code",
   "execution_count": null,
   "metadata": {},
   "outputs": [],
   "source": [
    "def reference(n):\n",
    "    if (not type(n) is int): return []\n",
    "    a = [[0 for col in range(n)] for row in range(n)];\n",
    "    steps = [0, 1, 0, -1]\n",
    "    turn = 0\n",
    "    c = 1\n",
    "    i = 0\n",
    "    j = 0\n",
    "    passed = 0\n",
    "    original = n\n",
    "    while n > 0:\n",
    "        a[i][j] = c\n",
    "        if (c - passed) % n == 0:\n",
    "            passed += n\n",
    "            if (turn % 2) == 0:\n",
    "                n-=1\n",
    "            turn+=1\n",
    "        i += steps[(turn + 4) % 4]\n",
    "        j += steps[(turn + 5) % 4]\n",
    "        c+=1\n",
    "    return a\n"
   ]
  },
  {
   "cell_type": "markdown",
   "metadata": {},
   "source": [
    "Write a function named first_non_repeating_letter that takes a string input, and returns the first character that is not repeated anywhere in the string.\n",
    "\n",
    "For example, if given the input 'stress', the function should return 't', since the letter t only occurs once in the string, and occurs first in the string.\n",
    "\n",
    "As an added challenge, upper- and lowercase letters are considered the same character, but the function should return the correct case for the initial letter. For example, the input 'sTreSS' should return 'T'.\n",
    "\n",
    "If a string contains all repeating characters, it should return an empty string (\"\") or None -- see sample tests."
   ]
  },
  {
   "cell_type": "code",
   "execution_count": 11,
   "metadata": {},
   "outputs": [],
   "source": [
    "def first_non_repeating_letter(s, i =0):\n",
    "    if s.upper().count(s.upper()[i])==1 :\n",
    "        return s[i]\n",
    "    else:\n",
    "        i+=1\n",
    "        first_non_repeating_letter(s,i)"
   ]
  },
  {
   "cell_type": "code",
   "execution_count": 14,
   "metadata": {},
   "outputs": [],
   "source": [
    "def first_non_repeating_letter(s, i=0):\n",
    "    s_lower = s.lower()  # Convert the string to lowercase for case-insensitive comparison\n",
    "\n",
    "    if i == len(s):  # Base case: if we have reached the end of the string\n",
    "        return ''   # No non-repeating letter found\n",
    "\n",
    "    current_char = s_lower[i]\n",
    "\n",
    "    # Check if the current character appears exactly once in the entire string\n",
    "    if s_lower.count(current_char) == 1:\n",
    "        return s[i]  # Return the original character from the original string\n",
    "    else:\n",
    "        return first_non_repeating_letter(s, i + 1) "
   ]
  },
  {
   "cell_type": "code",
   "execution_count": 15,
   "metadata": {},
   "outputs": [
    {
     "name": "stdout",
     "output_type": "stream",
     "text": [
      "T\n"
     ]
    }
   ],
   "source": [
    "s = 'sTreSS'\n",
    "print(first_non_repeating_letter(s))"
   ]
  },
  {
   "cell_type": "markdown",
   "metadata": {},
   "source": [
    "La siguiente solución fue con un for \n"
   ]
  },
  {
   "cell_type": "code",
   "execution_count": null,
   "metadata": {},
   "outputs": [],
   "source": [
    "def first_non_repeating_letter(string):\n",
    "    string_lower = string.lower()\n",
    "    for i, letter in enumerate(string_lower):\n",
    "        if string_lower.count(letter) == 1:\n",
    "            return string[i]\n",
    "            \n",
    "    return \"\""
   ]
  },
  {
   "cell_type": "markdown",
   "metadata": {},
   "source": [
    "Write a function that when given a URL as a string, parses out just the domain name and returns it as a string. For example:\n",
    "\n",
    "* url = \"http://github.com/carbonfive/raygun\" -> domain name = \"github\"\n",
    "* url = \"http://www.zombie-bites.com\"         -> domain name = \"zombie-bites\"\n",
    "* url = \"https://www.cnet.com\"                -> domain name = cnet\""
   ]
  },
  {
   "cell_type": "code",
   "execution_count": 50,
   "metadata": {},
   "outputs": [
    {
     "data": {
      "text/plain": [
       "['www', 'xakep', 'ru']"
      ]
     },
     "execution_count": 50,
     "metadata": {},
     "output_type": "execute_result"
    }
   ],
   "source": [
    "url = \"www.xakep.ru\"\n",
    "\n",
    "url.split('.')\n"
   ]
  },
  {
   "cell_type": "code",
   "execution_count": 54,
   "metadata": {},
   "outputs": [],
   "source": [
    "def domain_name(url):\n",
    "    if '://' in url:\n",
    "        url = url.split('://')[1].split('.')\n",
    "    else:\n",
    "        url = url.split('.')\n",
    "    if 'www' in url:\n",
    "        return url[1]\n",
    "    else:\n",
    "        return url[0]"
   ]
  },
  {
   "cell_type": "code",
   "execution_count": 55,
   "metadata": {},
   "outputs": [
    {
     "data": {
      "text/plain": [
       "'xakep'"
      ]
     },
     "execution_count": 55,
     "metadata": {},
     "output_type": "execute_result"
    }
   ],
   "source": [
    "domain_name(url)"
   ]
  },
  {
   "cell_type": "code",
   "execution_count": null,
   "metadata": {},
   "outputs": [],
   "source": [
    "## Respuesta que más me gustó \n",
    "\n",
    "def domain_name(url):\n",
    "    return url.split(\"//\")[-1].split(\"www.\")[-1].split(\".\")[0]"
   ]
  },
  {
   "cell_type": "markdown",
   "metadata": {},
   "source": []
  }
 ],
 "metadata": {
  "kernelspec": {
   "display_name": "Python 3",
   "language": "python",
   "name": "python3"
  },
  "language_info": {
   "codemirror_mode": {
    "name": "ipython",
    "version": 3
   },
   "file_extension": ".py",
   "mimetype": "text/x-python",
   "name": "python",
   "nbconvert_exporter": "python",
   "pygments_lexer": "ipython3",
   "version": "3.10.6"
  },
  "orig_nbformat": 4
 },
 "nbformat": 4,
 "nbformat_minor": 2
}
