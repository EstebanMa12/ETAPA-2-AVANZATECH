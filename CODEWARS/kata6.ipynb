{
 "cells": [
  {
   "cell_type": "markdown",
   "metadata": {},
   "source": [
    "In this kata you have to write a simple Morse code decoder. While the Morse code is now mostly superseded by voice and digital data communication channels, it still has its use in some applications around the world.\n",
    "The Morse code encodes every character as a sequence of \"dots\" and \"dashes\". For example, the letter A is coded as ·−, letter Q is coded as −−·−, and digit 1 is coded as ·−−−−. The Morse code is case-insensitive, traditionally capital letters are used. When the message is written in Morse code, a single space is used to separate the character codes and 3 spaces are used to separate words. For example, the message HEY JUDE in Morse code is ···· · −·−−   ·−−− ··− −·· ·.\n",
    "\n",
    "NOTE: Extra spaces before or after the code have no meaning and should be ignored.\n",
    "\n",
    "In addition to letters, digits and some punctuation, there are some special service codes, the most notorious of those is the international distress signal SOS (that was first issued by Titanic), that is coded as ···−−−···. These special codes are treated as single special characters, and usually are transmitted as separate words.\n",
    "\n",
    "Your task is to implement a function that would take the morse code as input and return a decoded human-readable string.\n",
    "\n",
    "For example:\n",
    "\n",
    "decode_morse('.... . -.--   .--- ..- -.. .')\n",
    "#should return \"HEY JUDE\""
   ]
  },
  {
   "cell_type": "code",
   "execution_count": 4,
   "metadata": {},
   "outputs": [],
   "source": [
    "morse_code='.... . -.--   .--- ..- -.. .'"
   ]
  },
  {
   "cell_type": "code",
   "execution_count": 11,
   "metadata": {},
   "outputs": [
    {
     "data": {
      "text/plain": [
       "'.....-.-- .---..--...'"
      ]
     },
     "execution_count": 11,
     "metadata": {},
     "output_type": "execute_result"
    }
   ],
   "source": [
    "result= ''\n",
    "for word in morse_code.split(\"   \"):\n",
    "    for letter in word.split(' '):\n",
    "        result += letter\n",
    "    result += ' '\n",
    "\n",
    "result[:-1]"
   ]
  },
  {
   "cell_type": "code",
   "execution_count": null,
   "metadata": {},
   "outputs": [],
   "source": [
    "\"\"\" Mi solución  \"\"\"\n",
    "\n",
    "from preloaded import MORSE_CODE\n",
    "\n",
    "def decode_morse(morse_code):\n",
    "    # Remember - you can use the preloaded MORSE_CODE dictionary:\n",
    "    # For example: \n",
    "    # MORSE_CODE['.-'] = 'A'\n",
    "    # MORSE_CODE['--...'] = '7'\n",
    "    # MORSE_CODE['...-..-'] = '$'\n",
    "    result = ''\n",
    "    for word in morse_code.split(\"   \"):\n",
    "        for letter in word.split(' '):\n",
    "            if letter in MORSE_CODE:\n",
    "                result += MORSE_CODE[letter]\n",
    "        result += ' '\n",
    "    \n",
    "    return result.strip()"
   ]
  },
  {
   "cell_type": "markdown",
   "metadata": {},
   "source": [
    "Solución que más me gustó"
   ]
  },
  {
   "cell_type": "code",
   "execution_count": null,
   "metadata": {},
   "outputs": [],
   "source": [
    "def decodeMorse(morseCode):\n",
    "    return ' '.join(''.join(MORSE_CODE[letter] for letter in word.split(' ')) for word in morseCode.strip().split('   '))"
   ]
  },
  {
   "cell_type": "markdown",
   "metadata": {},
   "source": [
    "Implement the function unique_in_order which takes as argument a sequence and returns a list of items without any elements with the same value next to each other and preserving the original order of elements.\n",
    "\n",
    "For example:\n",
    "\n",
    "- unique_in_order('AAAABBBCCDAABBB') == ['A', 'B', 'C', 'D', 'A', 'B']\n",
    "- unique_in_order('ABBCcAD')         == ['A', 'B', 'C', 'c', 'A', 'D']\n",
    "- unique_in_order([1, 2, 2, 3, 3])   == [1, 2, 3]\n",
    "- unique_in_order((1, 2, 2, 3, 3))   == [1, 2, 3]"
   ]
  },
  {
   "cell_type": "code",
   "execution_count": 12,
   "metadata": {},
   "outputs": [],
   "source": [
    "sequence = 'AAAABBBCCDAABBB'"
   ]
  },
  {
   "cell_type": "code",
   "execution_count": 2,
   "metadata": {},
   "outputs": [],
   "source": [
    "from functools import reduce\n",
    "def unique_in_order(sequence):\n",
    "    return reduce(lambda re, x: re+[x] if x not in re else re, sequence, [])"
   ]
  },
  {
   "cell_type": "code",
   "execution_count": 4,
   "metadata": {},
   "outputs": [
    {
     "data": {
      "text/plain": [
       "['A', 'B', 'C', 'D']"
      ]
     },
     "execution_count": 4,
     "metadata": {},
     "output_type": "execute_result"
    }
   ],
   "source": [
    "unique_in_order(sequence)"
   ]
  },
  {
   "cell_type": "code",
   "execution_count": 11,
   "metadata": {},
   "outputs": [
    {
     "data": {
      "text/plain": [
       "['A', 'B', 'C', 'D']"
      ]
     },
     "execution_count": 11,
     "metadata": {},
     "output_type": "execute_result"
    }
   ],
   "source": [
    "uniqueList=[]\n",
    "for element in sequence:\n",
    "    if element not in uniqueList:\n",
    "        uniqueList.append(element)\n",
    "uniqueList"
   ]
  },
  {
   "cell_type": "markdown",
   "metadata": {},
   "source": [
    "la solucion que más me gustó "
   ]
  },
  {
   "cell_type": "code",
   "execution_count": null,
   "metadata": {},
   "outputs": [],
   "source": [
    "def unique_in_order(iterable):\n",
    "    result = []\n",
    "    prev = None\n",
    "    for char in iterable[0:]:\n",
    "        if char != prev:\n",
    "            result.append(char)\n",
    "            prev = char\n",
    "    return result"
   ]
  },
  {
   "cell_type": "markdown",
   "metadata": {},
   "source": [
    "Coffee Vending Machine Problems [Part 1]\n",
    "You have a vending machine, but it can not give the change back. You decide to implement this functionality. First of all, you need to know the minimum number of coins for this operation (i'm sure you don't want to return 100 pennys instead of 1$ coin). So, find an optimal number of coins required, if you have unlimited set of coins with given denominations.\n",
    "\n",
    "Assume all inputs are valid positive integers, and every set of coin denominations has len 4 for simplicity;\n",
    "\n",
    "Examples:\n",
    "\n",
    "` - optimal_number_of_coins(1, [1, 2, 5, 10]) \n",
    "(1 penny) so returns 1  \n",
    "- optimal_number_of_coins(5, [1, 2, 5, 10])\n",
    "(5) so returns 1\n",
    "- optimal_number_of_coins(6, [1, 3, 5, 10])\n",
    "(3+3 or 5+1) = 6 so returns 2\n",
    "- optimal_number_of_coins(10, [1, 2, 5, 10]) \n",
    "(10) so returns 1\n",
    "- optimal_number_of_coins(12, [1, 3, 5, 10])\n",
    "(10+1+1) = 12 so returns 3\n",
    "- optimal_number_of_coins(53, [1, 2, 5, 25])\n",
    "(25+25+2+1) = 53 so returns 4\n",
    "- optimal_number_of_coins(7, [1, 1, 1, 25])\n",
    "(1+1+1+1+1+1+1) = 7 so returns 7`"
   ]
  },
  {
   "cell_type": "code",
   "execution_count": 1,
   "metadata": {},
   "outputs": [],
   "source": [
    "import math"
   ]
  },
  {
   "cell_type": "code",
   "execution_count": 139,
   "metadata": {},
   "outputs": [],
   "source": [
    "n=23\n",
    "coins= [1, 3, 4, 10]"
   ]
  },
  {
   "cell_type": "code",
   "execution_count": 111,
   "metadata": {},
   "outputs": [],
   "source": [
    "def optimal_number_of_coins(n, coins, minimo=0):\n",
    "    a = [math.floor(n/penny) for penny in coins if math.floor(n/penny)!=0]\n",
    "    minimo += min(a)\n",
    "    minIndex= a.index(min(a))\n",
    "    n-= a[minIndex]*coins[minIndex]\n",
    "    if n==0:\n",
    "        return minimo\n",
    "    else:\n",
    "        return optimal_number_of_coins(n,coins, minimo)"
   ]
  },
  {
   "cell_type": "code",
   "execution_count": 122,
   "metadata": {},
   "outputs": [],
   "source": [
    "def optimal_number_of_coins(n, coins, minimo=0):\n",
    "    print(f'Este es el numero inicial {n}')\n",
    "    a = [math.floor(n/penny) for penny in coins if math.floor(n/penny)!=0]\n",
    "    minimo += min(a)\n",
    "    \"\"\" print(f'Este es el numero minimo {minimo}') \"\"\"\n",
    "    minIndex= a.index(min(a))\n",
    "    n-= a[minIndex]*coins[minIndex]\n",
    "    print(f'esto es lo que queda {n}')\n",
    "    if n==0:\n",
    "        print(f'Ya cumplio con la condición con {minimo} monedas')\n",
    "        return minimo\n",
    "    else:\n",
    "        print(f'Este es el minimo antes de ingresar a la recursividad {minimo} y esto {n}')\n",
    "        return optimal_number_of_coins(n,coins, minimo)"
   ]
  },
  {
   "cell_type": "code",
   "execution_count": 123,
   "metadata": {},
   "outputs": [
    {
     "name": "stdout",
     "output_type": "stream",
     "text": [
      "Este es el numero inicial 76\n",
      "esto es lo que queda 6\n",
      "Este es el minimo antes de ingresar a la recursividad 7 y esto 6\n",
      "Este es el numero inicial 6\n",
      "esto es lo que queda 2\n",
      "Este es el minimo antes de ingresar a la recursividad 8 y esto 2\n",
      "Este es el numero inicial 2\n",
      "esto es lo que queda 0\n",
      "Ya cumplio con la condición con 10 monedas\n",
      "10\n"
     ]
    }
   ],
   "source": [
    "print(optimal_number_of_coins(n,coins))"
   ]
  },
  {
   "cell_type": "code",
   "execution_count": 124,
   "metadata": {},
   "outputs": [
    {
     "name": "stdout",
     "output_type": "stream",
     "text": [
      "Este es el numero inicial 53\n",
      "esto es lo que queda 3\n",
      "Este es el minimo antes de ingresar a la recursividad 2 y esto 3\n",
      "Este es el numero inicial 3\n",
      "esto es lo que queda 1\n",
      "Este es el minimo antes de ingresar a la recursividad 3 y esto 1\n",
      "Este es el numero inicial 1\n",
      "esto es lo que queda 0\n",
      "Ya cumplio con la condición con 4 monedas\n"
     ]
    },
    {
     "data": {
      "text/plain": [
       "4"
      ]
     },
     "execution_count": 124,
     "metadata": {},
     "output_type": "execute_result"
    }
   ],
   "source": [
    "optimal_number_of_coins(53,[1, 2, 5, 25])"
   ]
  },
  {
   "cell_type": "code",
   "execution_count": 127,
   "metadata": {},
   "outputs": [
    {
     "data": {
      "text/plain": [
       "1"
      ]
     },
     "execution_count": 127,
     "metadata": {},
     "output_type": "execute_result"
    }
   ],
   "source": [
    "53%2\n"
   ]
  },
  {
   "cell_type": "code",
   "execution_count": 146,
   "metadata": {},
   "outputs": [
    {
     "name": "stdout",
     "output_type": "stream",
     "text": [
      "Esta es la coin 1\n",
      "min(inf, 1) =>1\n",
      "inf\n",
      "min(inf, 2) =>2\n",
      "inf\n",
      "min(inf, 3) =>3\n",
      "inf\n",
      "min(inf, 4) =>4\n",
      "inf\n",
      "min(inf, 5) =>5\n",
      "inf\n",
      "min(inf, 6) =>6\n",
      "inf\n",
      "min(inf, 7) =>7\n",
      "inf\n",
      "min(inf, 8) =>8\n",
      "inf\n",
      "min(inf, 9) =>9\n",
      "inf\n",
      "min(inf, 10) =>10\n",
      "inf\n",
      "min(inf, 11) =>11\n",
      "inf\n",
      "min(inf, 12) =>12\n",
      "inf\n",
      "min(inf, 13) =>13\n",
      "inf\n",
      "min(inf, 14) =>14\n",
      "inf\n",
      "min(inf, 15) =>15\n",
      "inf\n",
      "min(inf, 16) =>16\n",
      "inf\n",
      "min(inf, 17) =>17\n",
      "inf\n",
      "min(inf, 18) =>18\n",
      "inf\n",
      "min(inf, 19) =>19\n",
      "inf\n",
      "min(inf, 20) =>20\n",
      "inf\n",
      "min(inf, 21) =>21\n",
      "inf\n",
      "min(inf, 22) =>22\n",
      "inf\n",
      "min(inf, 23) =>23\n",
      "23\n",
      "Esta es la coin 3\n",
      "min(3, 1) =>1\n",
      "23\n",
      "min(4, 2) =>2\n",
      "23\n",
      "min(5, 3) =>3\n",
      "23\n",
      "min(6, 2) =>2\n",
      "23\n",
      "min(7, 3) =>3\n",
      "23\n",
      "min(8, 4) =>4\n",
      "23\n",
      "min(9, 3) =>3\n",
      "23\n",
      "min(10, 4) =>4\n",
      "23\n",
      "min(11, 5) =>5\n",
      "23\n",
      "min(12, 4) =>4\n",
      "23\n",
      "min(13, 5) =>5\n",
      "23\n",
      "min(14, 6) =>6\n",
      "23\n",
      "min(15, 5) =>5\n",
      "23\n",
      "min(16, 6) =>6\n",
      "23\n",
      "min(17, 7) =>7\n",
      "23\n",
      "min(18, 6) =>6\n",
      "23\n",
      "min(19, 7) =>7\n",
      "23\n",
      "min(20, 8) =>8\n",
      "23\n",
      "min(21, 7) =>7\n",
      "23\n",
      "min(22, 8) =>8\n",
      "23\n",
      "min(23, 9) =>9\n",
      "9\n",
      "Esta es la coin 4\n",
      "min(2, 1) =>1\n",
      "9\n",
      "min(3, 2) =>2\n",
      "9\n",
      "min(2, 3) =>2\n",
      "9\n",
      "min(3, 2) =>2\n",
      "9\n",
      "min(4, 2) =>2\n",
      "9\n",
      "min(3, 3) =>3\n",
      "9\n",
      "min(4, 3) =>3\n",
      "9\n",
      "min(5, 3) =>3\n",
      "9\n",
      "min(4, 3) =>3\n",
      "9\n",
      "min(5, 4) =>4\n",
      "9\n",
      "min(6, 4) =>4\n",
      "9\n",
      "min(5, 4) =>4\n",
      "9\n",
      "min(6, 4) =>4\n",
      "9\n",
      "min(7, 5) =>5\n",
      "9\n",
      "min(6, 5) =>5\n",
      "9\n",
      "min(7, 5) =>5\n",
      "9\n",
      "min(8, 5) =>5\n",
      "9\n",
      "min(7, 6) =>6\n",
      "9\n",
      "min(8, 6) =>6\n",
      "9\n",
      "min(9, 6) =>6\n",
      "6\n",
      "Esta es la coin 10\n",
      "min(3, 1) =>1\n",
      "6\n",
      "min(3, 2) =>2\n",
      "6\n",
      "min(3, 3) =>3\n",
      "6\n",
      "min(4, 2) =>2\n",
      "6\n",
      "min(4, 2) =>2\n",
      "6\n",
      "min(4, 3) =>3\n",
      "6\n",
      "min(4, 3) =>3\n",
      "6\n",
      "min(5, 3) =>3\n",
      "6\n",
      "min(5, 3) =>3\n",
      "6\n",
      "min(5, 4) =>4\n",
      "6\n",
      "min(5, 2) =>2\n",
      "6\n",
      "min(6, 3) =>3\n",
      "6\n",
      "min(6, 4) =>4\n",
      "6\n",
      "min(6, 3) =>3\n",
      "3\n"
     ]
    },
    {
     "data": {
      "text/plain": [
       "3"
      ]
     },
     "execution_count": 146,
     "metadata": {},
     "output_type": "execute_result"
    }
   ],
   "source": [
    "dp = [float('inf')] * (n + 1)\n",
    "dp[0] = 0\n",
    "for coin in coins:\n",
    "    for i in range(coin, n + 1):\n",
    "        dp[i] = min(dp[i], dp[i - coin] + 1)\n",
    "dp[n]"
   ]
  },
  {
   "cell_type": "code",
   "execution_count": 130,
   "metadata": {},
   "outputs": [
    {
     "data": {
      "text/plain": [
       "inf"
      ]
     },
     "execution_count": 130,
     "metadata": {},
     "output_type": "execute_result"
    }
   ],
   "source": [
    "dp = [float('inf')] * (n + 1)\n",
    "dp[0]"
   ]
  },
  {
   "cell_type": "code",
   "execution_count": 155,
   "metadata": {},
   "outputs": [
    {
     "data": {
      "text/plain": [
       "15129"
      ]
     },
     "execution_count": 155,
     "metadata": {},
     "output_type": "execute_result"
    }
   ],
   "source": [
    "int('123')**2"
   ]
  },
  {
   "cell_type": "code",
   "execution_count": 159,
   "metadata": {},
   "outputs": [
    {
     "data": {
      "text/plain": [
       "'811181'"
      ]
     },
     "execution_count": 159,
     "metadata": {},
     "output_type": "execute_result"
    }
   ],
   "source": [
    "num = 9119\n",
    "''.join([str(int(n)**2) for n in list(str(num))])"
   ]
  },
  {
   "cell_type": "code",
   "execution_count": 164,
   "metadata": {},
   "outputs": [
    {
     "data": {
      "text/plain": [
       "17"
      ]
     },
     "execution_count": 164,
     "metadata": {},
     "output_type": "execute_result"
    }
   ],
   "source": [
    "year // 100"
   ]
  },
  {
   "cell_type": "code",
   "execution_count": 166,
   "metadata": {},
   "outputs": [
    {
     "name": "stdout",
     "output_type": "stream",
     "text": [
      "17\n"
     ]
    }
   ],
   "source": [
    "year = 1700\n",
    "\n",
    "if year%100 !=0:\n",
    "    print( (year //100) +1)\n",
    "else:\n",
    "    print(year//100)"
   ]
  },
  {
   "cell_type": "markdown",
   "metadata": {},
   "source": [
    "Write a function that accepts an array of 10 integers (between 0 and 9), that returns a string of those numbers in the form of a phone number.\n",
    "\n",
    "Example\n",
    "\n",
    "\n",
    "create_phone_number([1, 2, 3, 4, 5, 6, 7, 8, 9, 0]) # => returns \"(123) 456-7890\""
   ]
  },
  {
   "cell_type": "code",
   "execution_count": 2,
   "metadata": {},
   "outputs": [],
   "source": [
    "n=[1, 2, 3, 4, 5, 6, 7, 8, 9, 0]"
   ]
  },
  {
   "cell_type": "code",
   "execution_count": 36,
   "metadata": {},
   "outputs": [],
   "source": [
    "a=str(n).strip(\",[]\").replace(',','').replace(' ', '')"
   ]
  },
  {
   "cell_type": "code",
   "execution_count": 37,
   "metadata": {},
   "outputs": [
    {
     "data": {
      "text/plain": [
       "'(123) 456-7890'"
      ]
     },
     "execution_count": 37,
     "metadata": {},
     "output_type": "execute_result"
    }
   ],
   "source": [
    "f'({a[:3]}) {a[3:6]}-{a[6:]}'"
   ]
  },
  {
   "cell_type": "code",
   "execution_count": 38,
   "metadata": {},
   "outputs": [
    {
     "data": {
      "text/plain": [
       "'1234567890'"
      ]
     },
     "execution_count": 38,
     "metadata": {},
     "output_type": "execute_result"
    }
   ],
   "source": [
    "''.join(map(str,n))"
   ]
  },
  {
   "cell_type": "code",
   "execution_count": 40,
   "metadata": {},
   "outputs": [
    {
     "data": {
      "text/plain": [
       "'(123) 456-7890'"
      ]
     },
     "execution_count": 40,
     "metadata": {},
     "output_type": "execute_result"
    }
   ],
   "source": [
    "\"({}{}{}) {}{}{}-{}{}{}{}\".format(*n)"
   ]
  },
  {
   "cell_type": "markdown",
   "metadata": {},
   "source": [
    "The goal of this exercise is to convert a string to a new string where each character in the new string is \"(\" if that character appears only once in the original string, or \")\" if that character appears more than once in the original string. Ignore capitalization when determining if a character is a duplicate.\n",
    "\n",
    "Examples\n",
    "- \"din\"      =>  \"(((\"\n",
    "- \"recede\"   =>  \"()()()\"\n",
    "- \"Success\"  =>  \")())())\"\n",
    "- \"(( @\"     =>  \"))((\" \n",
    "Notes\n",
    "\n",
    "Assertion messages may be unclear about what they display in some languages. If you read \"...It Should encode XXX\", the \"XXX\" is the expected result, not the input!"
   ]
  },
  {
   "cell_type": "code",
   "execution_count": null,
   "metadata": {},
   "outputs": [],
   "source": [
    "def duplicate_encode(s):\n",
    "    s_lower = s.lower()\n",
    "    result = ''\n",
    "    for char in s_lower:\n",
    "        if s_lower.count(char) == 1:\n",
    "            result += '('\n",
    "        else:\n",
    "            result += ')'\n",
    "\n",
    "    return result"
   ]
  },
  {
   "cell_type": "markdown",
   "metadata": {},
   "source": [
    "A pangram is a sentence that contains every single letter of the alphabet at least once. For example, the sentence \"The quick brown fox jumps over the lazy dog\" is a pangram, because it uses the letters A-Z at least once (case is irrelevant).\n",
    "\n",
    "Given a string, detect whether or not it is a pangram. Return True if it is, False if not. Ignore numbers and punctuation."
   ]
  },
  {
   "cell_type": "code",
   "execution_count": null,
   "metadata": {},
   "outputs": [],
   "source": [
    "def is_pangram(s):\n",
    "    return set(''.join([a for a in s.replace(\" \",'').lower() if a.isalpha()]))==set('abcdefghijklmnopqrstuvwxyz')"
   ]
  },
  {
   "cell_type": "code",
   "execution_count": 39,
   "metadata": {},
   "outputs": [],
   "source": [
    "s= \"The quick, brown fox jumps over the lazy dog!\""
   ]
  },
  {
   "cell_type": "code",
   "execution_count": 26,
   "metadata": {},
   "outputs": [
    {
     "data": {
      "text/plain": [
       "True"
      ]
     },
     "execution_count": 26,
     "metadata": {},
     "output_type": "execute_result"
    }
   ],
   "source": [
    "s.endswith('.')"
   ]
  },
  {
   "cell_type": "code",
   "execution_count": 25,
   "metadata": {},
   "outputs": [
    {
     "data": {
      "text/plain": [
       "'thequickbrownfoxjumpsoverthelazydog'"
      ]
     },
     "execution_count": 25,
     "metadata": {},
     "output_type": "execute_result"
    }
   ],
   "source": [
    "s.replace(\" \",'').lower()[:-1]"
   ]
  },
  {
   "cell_type": "code",
   "execution_count": null,
   "metadata": {},
   "outputs": [],
   "source": [
    "from functools import counter"
   ]
  },
  {
   "cell_type": "code",
   "execution_count": 48,
   "metadata": {},
   "outputs": [
    {
     "data": {
      "text/plain": [
       "{'a',\n",
       " 'b',\n",
       " 'c',\n",
       " 'd',\n",
       " 'e',\n",
       " 'f',\n",
       " 'g',\n",
       " 'h',\n",
       " 'i',\n",
       " 'j',\n",
       " 'k',\n",
       " 'l',\n",
       " 'm',\n",
       " 'n',\n",
       " 'o',\n",
       " 'p',\n",
       " 'q',\n",
       " 'r',\n",
       " 's',\n",
       " 't',\n",
       " 'u',\n",
       " 'v',\n",
       " 'w',\n",
       " 'x',\n",
       " 'y',\n",
       " 'z'}"
      ]
     },
     "execution_count": 48,
     "metadata": {},
     "output_type": "execute_result"
    }
   ],
   "source": [
    "set('abcdefghijklmnopqrstuvwxyz')"
   ]
  },
  {
   "cell_type": "code",
   "execution_count": 44,
   "metadata": {},
   "outputs": [
    {
     "data": {
      "text/plain": [
       "{'a',\n",
       " 'b',\n",
       " 'c',\n",
       " 'd',\n",
       " 'e',\n",
       " 'f',\n",
       " 'g',\n",
       " 'h',\n",
       " 'i',\n",
       " 'j',\n",
       " 'k',\n",
       " 'l',\n",
       " 'm',\n",
       " 'n',\n",
       " 'o',\n",
       " 'p',\n",
       " 'q',\n",
       " 'r',\n",
       " 's',\n",
       " 't',\n",
       " 'u',\n",
       " 'v',\n",
       " 'w',\n",
       " 'x',\n",
       " 'y',\n",
       " 'z'}"
      ]
     },
     "execution_count": 44,
     "metadata": {},
     "output_type": "execute_result"
    }
   ],
   "source": [
    "set(''.join([a for a in s.replace(\" \",'').lower() if a.isalpha()]))\n"
   ]
  },
  {
   "cell_type": "code",
   "execution_count": null,
   "metadata": {},
   "outputs": [],
   "source": []
  },
  {
   "cell_type": "markdown",
   "metadata": {},
   "source": [
    "Some numbers have funny properties. For example:\n",
    "\n",
    "- 89 --> 8¹ + 9² = 89 * 1\n",
    "\n",
    "- 695 --> 6² + 9³ + 5⁴= 1390 = 695 * 2\n",
    "\n",
    "- 46288 --> 4³ + 6⁴+ 2⁵ + 8⁶ + 8⁷ = 2360688 = 46288 * 51\n",
    "\n",
    "Given a positive integer n written as abcd... (a, b, c, d... being digits) and a positive integer p\n",
    "\n",
    "we want to find a positive integer k, if it exists, such that the sum of the digits of n taken to the successive powers of p is equal to k * n.\n",
    "In other words:\n",
    "\n",
    "Is there an integer k such as : (a ^ p + b ^ (p+1) + c ^(p+2) + d ^ (p+3) + ...) = n * k\n",
    "\n",
    "If it is the case we will return k, if not return -1.\n",
    "\n",
    "Note: n and p will always be given as strictly positive integers.\n",
    "\n",
    "- dig_pow(89, 1) should return 1 since 8¹ + 9² = 89 = 89 * 1\n",
    "- dig_pow(92, 1) should return -1 since there is no k such as 9¹ + 2² equals 92 * k\n",
    "- dig_pow(695, 2) should return 2 since 6² + 9³ + 5⁴= 1390 = 695 * 2\n",
    "- dig_pow(46288, 3) should return 51 since 4³ + 6⁴+ 2⁵ + 8⁶ + 8⁷ = 2360688 = 46288 * 51"
   ]
  },
  {
   "cell_type": "code",
   "execution_count": 63,
   "metadata": {},
   "outputs": [],
   "source": [
    "n,p=695,2"
   ]
  },
  {
   "cell_type": "code",
   "execution_count": 64,
   "metadata": {},
   "outputs": [
    {
     "data": {
      "text/plain": [
       "2"
      ]
     },
     "execution_count": 64,
     "metadata": {},
     "output_type": "execute_result"
    }
   ],
   "source": [
    "sum([pow(int(number),(idx+p)) for idx,number in enumerate(str(n))])//n"
   ]
  },
  {
   "cell_type": "code",
   "execution_count": null,
   "metadata": {},
   "outputs": [],
   "source": [
    "def dig_pow(n, p):\n",
    "    print(n,p)\n",
    "    suma=sum([pow(int(number),(idx+p)) for idx,number in enumerate(str(n))])\n",
    "    if suma%n==0:\n",
    "        return suma//n\n",
    "    else:\n",
    "        return -1"
   ]
  },
  {
   "cell_type": "code",
   "execution_count": 67,
   "metadata": {},
   "outputs": [
    {
     "data": {
      "text/plain": [
       "0.5"
      ]
     },
     "execution_count": 67,
     "metadata": {},
     "output_type": "execute_result"
    }
   ],
   "source": [
    "0.5%1"
   ]
  },
  {
   "cell_type": "markdown",
   "metadata": {},
   "source": [
    "Well met with Fibonacci bigger brother, AKA Tribonacci.\n",
    "\n",
    "As the name may already reveal, it works basically like a Fibonacci, but summing the last 3 (instead of 2) numbers of the sequence to generate the next. And, worse part of it, regrettably I won't get to hear non-native Italian speakers trying to pronounce it :(\n",
    "\n",
    "So, if we are to start our Tribonacci sequence with [1, 1, 1] as a starting input (AKA signature), we have this sequence:\n",
    "\n",
    "[1, 1 ,1, 3, 5, 9, 17, 31, ...]\n",
    "\n",
    "But what if we started with [0, 0, 1] as a signature? As starting with [0, 1] instead of [1, 1] basically shifts the common Fibonacci sequence by once place, you may be tempted to think that we would get the same sequence shifted by 2 places, but that is not the case and we would get:\n",
    "\n",
    "[0, 0, 1, 1, 2, 4, 7, 13, 24, ...]\n",
    "\n",
    "Well, you may have guessed it by now, but to be clear: you need to create a fibonacci function that given a signature array/list, returns the first n elements - signature included of the so seeded sequence.\n",
    "\n",
    "Signature will always contain 3 numbers; n will always be a non-negative number; if n == 0, then return an empty array (except in C return NULL) and be ready for anything else which is not clearly specified ;)"
   ]
  },
  {
   "cell_type": "code",
   "execution_count": null,
   "metadata": {},
   "outputs": [],
   "source": [
    "def tribonacci(signature, n):\n",
    "    print(signature,n)\n",
    "    if n == 0:\n",
    "        return []\n",
    "    elif n <= 3:\n",
    "        return signature[:n]\n",
    "    else:\n",
    "        while len(signature) < n:\n",
    "            signature.append(sum(signature[-3:]))\n",
    "        return signature"
   ]
  },
  {
   "cell_type": "code",
   "execution_count": null,
   "metadata": {},
   "outputs": [],
   "source": [
    "def tribonacci(signature, n):\n",
    "    if n == 0:\n",
    "        return []\n",
    "    elif n <= len(signature):\n",
    "        return signature[:n]\n",
    "    else:\n",
    "        next_element = sum(signature[-3:])\n",
    "        return tribonacci(signature + [next_element], n - 1)"
   ]
  },
  {
   "cell_type": "code",
   "execution_count": null,
   "metadata": {},
   "outputs": [],
   "source": [
    "def tribonacci(signature,n):\n",
    "    while len(signature) < n:\n",
    "        signature.append(sum(signature[-3:]))\n",
    "    \n",
    "    return signature[:n]"
   ]
  }
 ],
 "metadata": {
  "kernelspec": {
   "display_name": "Python 3",
   "language": "python",
   "name": "python3"
  },
  "language_info": {
   "codemirror_mode": {
    "name": "ipython",
    "version": 3
   },
   "file_extension": ".py",
   "mimetype": "text/x-python",
   "name": "python",
   "nbconvert_exporter": "python",
   "pygments_lexer": "ipython3",
   "version": "3.10.6"
  },
  "orig_nbformat": 4
 },
 "nbformat": 4,
 "nbformat_minor": 2
}
