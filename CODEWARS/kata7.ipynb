{
 "cells": [
  {
   "cell_type": "markdown",
   "metadata": {},
   "source": [
    "Usually when you buy something, you're asked whether your credit card number, phone number or answer to your most secret question is still correct. However, since someone could look over your shoulder, you don't want that shown on your screen. Instead, we mask it.\n",
    "\n",
    "Your task is to write a function maskify, which changes all but the last four characters into '#'."
   ]
  },
  {
   "cell_type": "code",
   "execution_count": null,
   "metadata": {},
   "outputs": [],
   "source": [
    "\n",
    "def maskify(str):\n",
    "    if len(str)>= 4:\n",
    "        return str.replace(str[:-4],'#'*len(str[:-4]))\n",
    "    else:\n",
    "        return str"
   ]
  },
  {
   "cell_type": "markdown",
   "metadata": {},
   "source": [
    "solución que más me gustó"
   ]
  },
  {
   "cell_type": "code",
   "execution_count": 1,
   "metadata": {},
   "outputs": [],
   "source": [
    "def maskify(cc):\n",
    "    return \"#\"*(len(cc)-4) + cc[-4:]"
   ]
  },
  {
   "cell_type": "markdown",
   "metadata": {},
   "source": [
    "Simple, given a string of words, return the length of the shortest word(s).\n",
    "\n",
    "String will never be empty and you do not need to account for different data types."
   ]
  },
  {
   "cell_type": "code",
   "execution_count": 6,
   "metadata": {},
   "outputs": [],
   "source": [
    "s= \"turns out random test cases are easier than writing out basic ones\""
   ]
  },
  {
   "cell_type": "code",
   "execution_count": 8,
   "metadata": {},
   "outputs": [
    {
     "data": {
      "text/plain": [
       "3"
      ]
     },
     "execution_count": 8,
     "metadata": {},
     "output_type": "execute_result"
    }
   ],
   "source": [
    "a= [len(word) for word in s.split(' ')]\n",
    "min(a)"
   ]
  },
  {
   "cell_type": "code",
   "execution_count": null,
   "metadata": {},
   "outputs": [],
   "source": [
    "def find_short(s):\n",
    "    return min(len(a) for a in s.split())"
   ]
  },
  {
   "cell_type": "markdown",
   "metadata": {},
   "source": [
    "Check to see if a string has the same amount of 'x's and 'o's. The method must return a boolean and be case insensitive. The string can contain any char.\n",
    "\n",
    "Examples input/output:\n",
    "\n",
    "- XO(\"ooxx\") => true\n",
    "- XO(\"xooxx\") => false\n",
    "- XO(\"ooxXm\") => true\n",
    "- XO(\"zpzpzpp\") => true // when no 'x' and 'o' is present should return true\n",
    "- XO(\"zzoo\") => false"
   ]
  },
  {
   "cell_type": "code",
   "execution_count": 9,
   "metadata": {},
   "outputs": [],
   "source": [
    "s= \"ooxx\""
   ]
  },
  {
   "cell_type": "code",
   "execution_count": 11,
   "metadata": {},
   "outputs": [
    {
     "data": {
      "text/plain": [
       "2"
      ]
     },
     "execution_count": 11,
     "metadata": {},
     "output_type": "execute_result"
    }
   ],
   "source": [
    "s.count('o')"
   ]
  },
  {
   "cell_type": "code",
   "execution_count": null,
   "metadata": {},
   "outputs": [],
   "source": [
    "def xo(s):\n",
    "    if isinstance(s,str):\n",
    "        return s.lower().count('o')==s.lower().count('x')   \n",
    "    else:\n",
    "        return \"Only accept strings\""
   ]
  },
  {
   "cell_type": "markdown",
   "metadata": {},
   "source": [
    "Make a program that filters a list of strings and returns a list with only your friends name in it.\n",
    "\n",
    "If a name has exactly 4 letters in it, you can be sure that it has to be a friend of yours! Otherwise, you can be sure he's not...\n",
    "\n",
    "Ex: Input = [\"Ryan\", \"Kieran\", \"Jason\", \"Yous\"], Output = [\"Ryan\", \"Yous\"]\n",
    "\n",
    "i.e.\n",
    "\n",
    "friend [\"Ryan\", \"Kieran\", \"Mark\"] `shouldBe` [\"Ryan\", \"Mark\"]\n",
    "Note: keep the original order of the names in the output."
   ]
  },
  {
   "cell_type": "code",
   "execution_count": null,
   "metadata": {},
   "outputs": [],
   "source": [
    "def friend(x):\n",
    "    return [element for element in x if len(element)==4]"
   ]
  },
  {
   "cell_type": "markdown",
   "metadata": {},
   "source": [
    "Given two integers a and b, which can be positive or negative, find the sum of all the integers between and including them and return it. If the two numbers are equal return a or b.\n",
    "\n",
    "Note: a and b are not ordered!\n",
    "\n",
    "Examples (a, b) --> output (explanation)\n",
    "- (1, 0) --> 1 (1 + 0 = 1)\n",
    "- (1, 2) --> 3 (1 + 2 = 3)\n",
    "- (0, 1) --> 1 (0 + 1 = 1)\n",
    "- (1, 1) --> 1 (1 since both are same)\n",
    "- (-1, 0) --> -1 (-1 + 0 = -1)\n",
    "- (-1, 2) --> 2 (-1 + 0 + 1 + 2 = 2)\n",
    "\n",
    "\n",
    "Your function should only return a number, not the explanation about how you get that number.\n",
    "\n"
   ]
  },
  {
   "cell_type": "code",
   "execution_count": 8,
   "metadata": {},
   "outputs": [],
   "source": [
    "for i in range(1,0+1):\n",
    "    print(i)"
   ]
  },
  {
   "cell_type": "code",
   "execution_count": 2,
   "metadata": {},
   "outputs": [],
   "source": [
    "def get_sum(a,b):\n",
    "    if a==b:\n",
    "        return a\n",
    "    if a > b:\n",
    "        a,b = b,a\n",
    "        \n",
    "    n= b-a +1 \n",
    "    return int( (n/2)*(a+b))"
   ]
  },
  {
   "cell_type": "code",
   "execution_count": 3,
   "metadata": {},
   "outputs": [
    {
     "ename": "UnboundLocalError",
     "evalue": "local variable 'i' referenced before assignment",
     "output_type": "error",
     "traceback": [
      "\u001b[0;31m---------------------------------------------------------------------------\u001b[0m",
      "\u001b[0;31mUnboundLocalError\u001b[0m                         Traceback (most recent call last)",
      "Cell \u001b[0;32mIn[3], line 1\u001b[0m\n\u001b[0;32m----> 1\u001b[0m get_sum(\u001b[39m1\u001b[39;49m,\u001b[39m0\u001b[39;49m)\n",
      "Cell \u001b[0;32mIn[2], line 4\u001b[0m, in \u001b[0;36mget_sum\u001b[0;34m(a, b)\u001b[0m\n\u001b[1;32m      2\u001b[0m \u001b[39mfor\u001b[39;00m i \u001b[39min\u001b[39;00m \u001b[39mrange\u001b[39m(a,b):\n\u001b[1;32m      3\u001b[0m     i \u001b[39m+\u001b[39m\u001b[39m=\u001b[39mi\n\u001b[0;32m----> 4\u001b[0m \u001b[39mreturn\u001b[39;00m i\n",
      "\u001b[0;31mUnboundLocalError\u001b[0m: local variable 'i' referenced before assignment"
     ]
    }
   ],
   "source": [
    "get_sum(1,0)"
   ]
  },
  {
   "cell_type": "code",
   "execution_count": 12,
   "metadata": {},
   "outputs": [
    {
     "data": {
      "text/plain": [
       "'123456'"
      ]
     },
     "execution_count": 12,
     "metadata": {},
     "output_type": "execute_result"
    }
   ],
   "source": [
    "'123' + '456'"
   ]
  },
  {
   "cell_type": "markdown",
   "metadata": {},
   "source": [
    "In this kata you will create a function that takes a list of non-negative integers and strings and returns a new list with the strings filtered out.\n",
    "\n",
    "Example\n",
    "- filter_list([1,'a','b',0,15]) == [1,0,15]\n",
    "- filter_list([1,2,'a','b']) == [1,2]\n",
    "- filter_list([1,2,'aasf','1','123',123]) == [1,2,123]"
   ]
  },
  {
   "cell_type": "code",
   "execution_count": null,
   "metadata": {},
   "outputs": [],
   "source": [
    "def filter_list(l):\n",
    "    return [a for a in l if isinstance(a,int)]"
   ]
  },
  {
   "cell_type": "markdown",
   "metadata": {},
   "source": [
    "In DNA strings, symbols \"A\" and \"T\" are complements of each other, as \"C\" and \"G\". Your function receives one side of the DNA (string, except for Haskell); you need to return the other complementary side. DNA strand is never empty or there is no DNA at all (again, except for Haskell)."
   ]
  },
  {
   "cell_type": "code",
   "execution_count": 9,
   "metadata": {},
   "outputs": [
    {
     "name": "stdout",
     "output_type": "stream",
     "text": [
      "TAACG\n"
     ]
    }
   ],
   "source": [
    "dna= \"ATTGC\"\n",
    "complement= {'A':'T','T':'A','G':'C','C':'G'}\n",
    "output=''\n",
    "for letter in dna:\n",
    "    output += complement[letter]\n",
    "return output"
   ]
  },
  {
   "cell_type": "markdown",
   "metadata": {},
   "source": [
    "Your task is to convert strings to how they would be written by Jaden Smith. The strings are actual quotes from Jaden Smith, but they are not capitalized in the same way he originally typed them."
   ]
  },
  {
   "cell_type": "code",
   "execution_count": 10,
   "metadata": {},
   "outputs": [],
   "source": [
    "string= \"How can mirrors be real if our eyes aren't real\""
   ]
  },
  {
   "cell_type": "code",
   "execution_count": 24,
   "metadata": {},
   "outputs": [
    {
     "data": {
      "text/plain": [
       "\"How Can Mirrors Be Real If Our Eyes Aren't Real\""
      ]
     },
     "execution_count": 24,
     "metadata": {},
     "output_type": "execute_result"
    }
   ],
   "source": [
    "' '.join(word.capitalize() for word in string.split())"
   ]
  },
  {
   "cell_type": "markdown",
   "metadata": {},
   "source": [
    "You might know some pretty large perfect squares. But what about the NEXT one?\n",
    "\n",
    "Complete the findNextSquare method that finds the next integral perfect square after the one passed as a parameter. Recall that an integral perfect square is an integer n such that sqrt(n) is also an integer.\n",
    "\n",
    "If the parameter is itself not a perfect square then -1 should be returned. You may assume the parameter is non-negative.\n",
    "\n",
    "Examples:(Input --> Output)\n",
    "\n",
    "- 121 --> 144\n",
    "- 625 --> 676\n",
    "- 114 --> -1 since 114 is not a perfect square"
   ]
  },
  {
   "cell_type": "code",
   "execution_count": null,
   "metadata": {},
   "outputs": [],
   "source": [
    "def find_next_square(sq):\n",
    "    if (sq**.5)%1==0:\n",
    "        return ((sq**.5)+1)**2\n",
    "    return -1"
   ]
  }
 ],
 "metadata": {
  "kernelspec": {
   "display_name": "Python 3",
   "language": "python",
   "name": "python3"
  },
  "language_info": {
   "codemirror_mode": {
    "name": "ipython",
    "version": 3
   },
   "file_extension": ".py",
   "mimetype": "text/x-python",
   "name": "python",
   "nbconvert_exporter": "python",
   "pygments_lexer": "ipython3",
   "version": "3.10.6"
  },
  "orig_nbformat": 4
 },
 "nbformat": 4,
 "nbformat_minor": 2
}
